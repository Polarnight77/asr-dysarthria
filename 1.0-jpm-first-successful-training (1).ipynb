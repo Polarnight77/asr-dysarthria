{
 "cells": [
  {
   "cell_type": "markdown",
   "metadata": {
    "id": "LBSYoWbi-45k"
   },
   "source": [
    "# **Fine-tuning XLS-R for Multi-Lingual ASR with 🤗 Transformers**\n",
    "\n",
    "***New (11/2021)***: *This blog post has been updated to feature XLSR's successor, called [XLS-R](https://huggingface.co/models?other=xls_r)*."
   ]
  },
  {
   "cell_type": "markdown",
   "metadata": {
    "id": "V7YOT2mnUiea"
   },
   "source": [
    "**Wav2Vec2** is a pretrained model for Automatic Speech Recognition (ASR) and was released in [September 2020](https://ai.facebook.com/blog/wav2vec-20-learning-the-structure-of-speech-from-raw-audio/) by *Alexei Baevski, Michael Auli, and Alex Conneau*.  Soon after the superior performance of Wav2Vec2 was demonstrated on one of the most popular English datasets for ASR, called [LibriSpeech](https://huggingface.co/datasets/librispeech_asr), *Facebook AI* presented a multi-lingual version of Wav2Vec2, called [XLSR](https://arxiv.org/abs/2006.13979). XLSR stands for *cross-lingual speech representations* and refers to model's ability to learn speech representations that are useful across multiple languages.\n",
    "\n",
    "XLSR's successor, simply called **XLS-R** (refering to the [*''XLM-R*](https://ai.facebook.com/blog/-xlm-r-state-of-the-art-cross-lingual-understanding-through-self-supervision/) *for Speech''*), was released in [November 2021](https://ai.facebook.com/blog/xls-r-self-supervised-speech-processing-for-128-languages) by *Arun Babu, Changhan Wang, Andros Tjandra, et al.* XLS-R used almost **half a million** hours of audio data in 128 languages for self-supervised pre-training and comes in sizes ranging from 300 milion up to **two billion** parameters. You can find the pretrained checkpoints on the 🤗 Hub:\n",
    "\n",
    "- [**Wav2Vec2-XLS-R-300M**](https://huggingface.co/facebook/wav2vec2-xls-r-300m)\n",
    "- [**Wav2Vec2-XLS-R-1B**](https://huggingface.co/facebook/wav2vec2-xls-r-1b)\n",
    "- [**Wav2Vec2-XLS-R-2B**](https://huggingface.co/facebook/wav2vec2-xls-r-2b)\n",
    "\n",
    "Similar to [BERT's masked language modeling objective](http://jalammar.github.io/illustrated-bert/), XLS-R learns contextualized speech representations by randomly masking feature vectors before passing them to a transformer network during self-supervised pre-training (*i.e.* diagram on the left below).\n",
    "\n",
    "For fine-tuning, a single linear layer is added on top of the pre-trained network to train the model on labeled data of audio downstream tasks such as speech recognition, speech translation and audio classification (*i.e.* diagram on the right below).\n",
    "\n",
    "![wav2vec2_structure](https://raw.githubusercontent.com/patrickvonplaten/scientific_images/master/xls_r.png)\n",
    "\n",
    "XLS-R shows impressive improvements over previous state-of-the-art results on both speech recognition, speech translation and speaker/language identification, *cf.* with Table 3-6, Table 7-10, and Table 11-12 respectively of the official [paper](https://ai.facebook.com/blog/xls-r-self-supervised-speech-processing-for-128-languages)."
   ]
  },
  {
   "cell_type": "markdown",
   "metadata": {
    "id": "nT_QrfWtsxIz"
   },
   "source": [
    "## Notebook Setup"
   ]
  },
  {
   "cell_type": "markdown",
   "metadata": {
    "id": "kruqixOYHaIo"
   },
   "source": [
    "\n",
    "In this notebook, we will give an in-detail explanation of how XLS-R - more specifically the pre-trained checkpoint [**Wav2Vec2-XLS-R-300M**](https://huggingface.co/facebook/wav2vec2-xls-r-300m) - can be fine-tuned for ASR.  \n",
    "\n",
    "For demonstration purposes, we fine-tune the model on the low resource ASR dataset of [Common Voice](https://huggingface.co/datasets/common_voice) that contains only *ca.* 4h of validated training data."
   ]
  },
  {
   "cell_type": "markdown",
   "metadata": {
    "id": "Gx9OdDYrCtQ1"
   },
   "source": [
    "XLS-R is fine-tuned using Connectionist Temporal Classification (CTC), which is an algorithm that is used to train neural networks for sequence-to-sequence problems, such as ASR and handwriting recognition.\n",
    "\n",
    "I highly recommend reading the well-written blog post [*Sequence Modeling with CTC (2017)*](https://distill.pub/2017/ctc/) by Awni Hannun."
   ]
  },
  {
   "cell_type": "markdown",
   "metadata": {
    "id": "wcHuXIaWyHZU"
   },
   "source": [
    "First, let's try to get a good GPU in our colab! With Google Colab's free version it's sadly becoming much harder to get access to a good GPU. With Google Colab Pro, however, one should easily get either a V100 or P100 GPU."
   ]
  },
  {
   "cell_type": "code",
   "execution_count": null,
   "metadata": {
    "colab": {
     "base_uri": "https://localhost:8080/"
    },
    "id": "YELVqGxMxnbG",
    "outputId": "a33d8e08-da64-4279-d059-6c252e7323d9"
   },
   "outputs": [],
   "source": [
    "gpu_info = !nvidia-smi\n",
    "gpu_info = \"\\n\".join(gpu_info)\n",
    "if gpu_info.find(\"failed\") >= 0:\n",
    "    print(\"Not connected to a GPU\")\n",
    "else:\n",
    "    print(gpu_info)"
   ]
  },
  {
   "cell_type": "markdown",
   "metadata": {
    "id": "e335hPmdtASZ"
   },
   "source": [
    "Before we start, let's install `datasets` and `transformers`. Also, we need the `torchaudio` to load audio files and `jiwer` to evaluate our fine-tuned model using the [word error rate (WER)](https://huggingface.co/metrics/wer) metric ${}^1$."
   ]
  },
  {
   "cell_type": "code",
   "execution_count": null,
   "metadata": {
    "id": "c8eh87Hoee5d"
   },
   "outputs": [],
   "source": [
    "%%capture\n",
    "!pip install datasets>=1.18.3\n",
    "!pip install transformers==4.11.3\n",
    "!pip install torchaudio==0.10.0+cu113 -f https://download.pytorch.org/whl/cu113/torch_stable.html\n",
    "!pip install jiwer\n",
    "!pip install accelerate -U"
   ]
  },
  {
   "cell_type": "markdown",
   "metadata": {
    "id": "0xxt_LwxDQlO"
   },
   "source": [
    "We strongly suggest to upload your training checkpoints directly to the [🤗 Hub](https://huggingface.co/) while training. The [🤗 Hub](https://huggingface.co/) has integrated version control so you can be sure that no model checkpoint is getting lost during training.\n",
    "\n",
    "To do so you have to store your authentication token from the Hugging Face website (sign up [here](https://huggingface.co/join) if you haven't already!)"
   ]
  },
  {
   "cell_type": "code",
   "execution_count": null,
   "metadata": {
    "colab": {
     "base_uri": "https://localhost:8080/",
     "height": 145,
     "referenced_widgets": [
      "73c69bca7c034a77b241416cd6bf257a",
      "00b54c04c9ae4ddd988d7d4780e9d3f8",
      "8f24541b08c549da813568295b4d04e9",
      "1e72ed34b3d941f38f33a9b9fde56bad",
      "4b1f403e37b94bc1b2ccf6f584f13de8",
      "f506104beb254ce5b922a226d88e75fc",
      "da9301d22cdf4886a62cbbd6057837c2",
      "4f0e157ba8b545f9a263a36c535dfd83",
      "55061d6fe26947b0b9dde21f6b19ea41",
      "4c5c1a4797f14523952e78ecb8f06e2f",
      "2abf66a6f8f24388b4ac277bf5d23cbe",
      "f66dabec6f5c4661a5e83a5196dffc9a",
      "31b2e1a523ac4aa98b44bcbcc819f4f1",
      "527b6a09c9444dbc8c5d4253a5894fbf",
      "376f3edd64d84bb4b3d88225ac61edf0",
      "34405f3568314dcb9285b6c32d22f5f6",
      "a7c9df194e6b40b3a6a4983ad5531193",
      "905239e4b8354d7f93f6749074e81af1",
      "5e64dc8b030b424695b24af53a91a7ef",
      "a66e994b67844d3da838fa6aa23186d5",
      "31da2b54530248a8933cc14fd8b94622",
      "54b6d80ec4594d79861a9fbe31097e28",
      "a36a14c37d2a44e4bac5244621287a23",
      "2471a70472a84eb08e983d71e4bc6d2a",
      "f4d4c6e875954c36aa3e10f0e97ee2c1",
      "d854c6e9ed044ec8a8f4c1ff5e658232",
      "ea637042deb34051b73a5ae1cb13d1c5",
      "882828978bc944aa885e13871185c32d",
      "c7129a5cae674295851885997ff7d967",
      "9c5b9c4b976c470f8e3fa4250effb819",
      "079781265c444cbfa959c5fba622503a",
      "e8e0f18cd26c4adf89402935a620e65f"
     ]
    },
    "id": "mlMSH3T3EazV",
    "outputId": "716d4570-801c-4c15-f9db-8b1460f7518e"
   },
   "outputs": [],
   "source": [
    "from huggingface_hub import notebook_login\n",
    "\n",
    "notebook_login()"
   ]
  },
  {
   "cell_type": "markdown",
   "metadata": {
    "id": "ujdZ2TxhElk6"
   },
   "source": [
    "\n",
    "Then you need to install Git-LFS to upload your model checkpoints:"
   ]
  },
  {
   "cell_type": "code",
   "execution_count": null,
   "metadata": {
    "id": "WcR-d83OEkqb"
   },
   "outputs": [],
   "source": [
    "%%capture\n",
    "!apt install git-lfs"
   ]
  },
  {
   "cell_type": "markdown",
   "metadata": {
    "id": "Mn9swf6EQ9Vd"
   },
   "source": [
    "\n",
    "\n",
    "\n",
    "---\n",
    "\n",
    "${}^1$ In the [paper](https://arxiv.org/pdf/2006.13979.pdf), the model was evaluated using the phoneme error rate (PER), but by far the most common metric in ASR is the word error rate (WER). To keep this notebook as general as possible we decided to evaluate the model using WER."
   ]
  },
  {
   "cell_type": "markdown",
   "metadata": {
    "id": "0mW-C1Nt-j7k"
   },
   "source": [
    "## Prepare Data, Tokenizer, Feature Extractor"
   ]
  },
  {
   "cell_type": "markdown",
   "metadata": {
    "id": "BeBosnY9BH3e"
   },
   "source": [
    "ASR models transcribe speech to text, which means that we both need a feature extractor that processes the speech signal to the model's input format, *e.g.* a feature vector, and a tokenizer that processes the model's output format to text.\n",
    "\n",
    "In 🤗 Transformers, the XLS-R model is thus accompanied by both a tokenizer, called [Wav2Vec2CTCTokenizer](https://huggingface.co/transformers/master/model_doc/wav2vec2.html#wav2vec2ctctokenizer), and a feature extractor, called [Wav2Vec2FeatureExtractor](https://huggingface.co/transformers/master/model_doc/wav2vec2.html#wav2vec2featureextractor).\n",
    "\n",
    "Let's start by creating the tokenizer to decode the predicted output classes to the output transcription."
   ]
  },
  {
   "cell_type": "markdown",
   "metadata": {
    "id": "sEXEWEJGQPqD"
   },
   "source": [
    "### Create `Wav2Vec2CTCTokenizer`"
   ]
  },
  {
   "cell_type": "markdown",
   "metadata": {
    "id": "tWmMikuNEKl_"
   },
   "source": [
    "A pre-trained XLS-R model maps the speech signal to a sequence of context representations as illustrated in the figure above. However, for speech recognition the model has to to map this sequence of context representations to its corresponding transcription which means that a linear layer has to be added on top of the transformer block (shown in yellow in the diagram above). This linear layer is used to classifies each context representation to a token class analogous how, *e.g.*, after pretraining a linear layer is added on top of BERT's embeddings for further classification - *cf.* with *'BERT'* section of this [blog post](https://huggingface.co/blog/warm-starting-encoder-decoder)."
   ]
  },
  {
   "cell_type": "markdown",
   "metadata": {
    "id": "v5oRE8XjIUH3"
   },
   "source": [
    "The output size of this layer corresponds to the number of tokens in the vocabulary, which does **not** depend onXLS-R's pretraining task, but only on the labeled dataset used for fine-tuning. So in the first step, we will take a look at the chosen dataset of Common Voice and define a vocabulary based on the transcriptions."
   ]
  },
  {
   "cell_type": "markdown",
   "metadata": {
    "id": "idBczw8mWzgt"
   },
   "source": [
    "First, let's go to Common Voice [official website](https://commonvoice.mozilla.org/en/datasets) and pick a language to fine-tune XLS-R on. For this notebook, we will use Turkish.\n",
    "\n",
    "For each language-specific dataset, you can find a language code corresponding to your chosen language. On [Common Voice](https://commonvoice.mozilla.org/en/datasets), look for the field \"Version\". The language code then corresponds to the prefix before the underscore. For Turkish, *e.g.* the language code is `\"tr\"`.\n",
    "\n",
    "Great, now we can use 🤗 Datasets' simple API to download the data. The dataset name is `\"common_voice\"`, the configuration name corresponds to the language code, which is `\"tr\"` in our case."
   ]
  },
  {
   "cell_type": "markdown",
   "metadata": {
    "id": "bee4g9rpLxll"
   },
   "source": [
    "Common Voice has many different splits including `invalidated`, which refers to data that was not rated as \"clean enough\" to be considered useful. In this notebook, we will only make use of the splits `\"train\"`, `\"validation\"` and `\"test\"`.\n",
    "\n",
    "Because the Turkish dataset is so small, we will merge both the validation and training data into a training dataset and only use the test data for validation."
   ]
  },
  {
   "cell_type": "code",
   "execution_count": null,
   "metadata": {
    "colab": {
     "base_uri": "https://localhost:8080/"
    },
    "id": "0bNSz7wmG94g",
    "outputId": "abd4af8e-d1fe-4066-d870-910bc480a922"
   },
   "outputs": [],
   "source": [
    "from google.colab import drive\n",
    "\n",
    "drive.mount(\"/content/drive\")"
   ]
  },
  {
   "cell_type": "markdown",
   "metadata": {
    "id": "kcEMQDGHm38m"
   },
   "source": [
    "TORGO"
   ]
  },
  {
   "cell_type": "code",
   "execution_count": 1,
   "metadata": {
    "id": "LVk9f7ZgDjcw",
    "tags": []
   },
   "outputs": [],
   "source": [
    "import pandas as pd\n",
    "import os\n",
    "import librosa\n",
    "\n",
    "def data_generator(data_dir):\n",
    "    metadata_path = os.path.join(data_dir, 'metadata.csv')\n",
    "    metadata = pd.read_csv(metadata_path)\n",
    "\n",
    "    for _, row in metadata.iterrows():\n",
    "        file_path = os.path.join(data_dir, row['file_name'])\n",
    "        transcription = row['transcription']\n",
    "         # Load the audio file with librosa\n",
    "        audio_data, sampling_rate = librosa.load(file_path, sr=16_000)  # Ensure the sampling rate is 16 kHz\n",
    "\n",
    "        # Structure the audio data and sampling rate in a dictionary\n",
    "        audio_dict = {\"array\": audio_data, \"sampling_rate\": sampling_rate}\n",
    "\n",
    "        yield {\"audio\": audio_dict, \"path\": file_path, \"transcription\": transcription}\n",
    "\n",
    "\n",
    "from datasets import Dataset, Features, Audio, Value\n",
    "\n",
    "data_dir = '/root/autodl-tmp/TORGO'  # Adjust this path as needed\n",
    "\n",
    "features = Features({\n",
    "    \"path\": Value(\"string\"),\n",
    "    \"audio\": Audio(sampling_rate=16_000),\n",
    "    \"transcription\": Value(\"string\")\n",
    "})\n",
    "\n",
    "dataset = Dataset.from_generator(\n",
    "    generator=data_generator,\n",
    "    features=features,\n",
    "    gen_kwargs={\"data_dir\": data_dir}\n",
    ")\n",
    "\n",
    "\n",
    "# def load_audio(batch):\n",
    "#     audio_data, _ = librosa.load(batch['path'], sr=16000)\n",
    "#     batch[\"audio\"] = audio_data\n",
    "#     return batch\n",
    "\n",
    "\n",
    "# dataset = dataset.map(load_audio)\n",
    "\n",
    "dataset = dataset.train_test_split(test_size=0.2)"
   ]
  },
  {
   "cell_type": "markdown",
   "metadata": {
    "id": "5Q9R6kwBm4--"
   },
   "source": [
    "UASPEECH"
   ]
  },
  {
   "cell_type": "code",
   "execution_count": null,
   "metadata": {
    "id": "0EN7Gcnsm6kT"
   },
   "outputs": [],
   "source": [
    "# import os\n",
    "\n",
    "# import librosa\n",
    "# import pandas as pd\n",
    "# from datasets import Dataset\n",
    "\n",
    "\n",
    "# def load_parquet_directory(directory_path, use_narrow_data=False):\n",
    "#     all_dfs = []\n",
    "#     for file_name in os.listdir(directory_path):\n",
    "#         if file_name.endswith(\".parquet\"):\n",
    "#             file_path = os.path.join(directory_path, file_name)\n",
    "#             df = pd.read_parquet(file_path)\n",
    "#             all_dfs.append(df)\n",
    "#             if use_narrow_data:\n",
    "#                 break\n",
    "\n",
    "#     return pd.concat(all_dfs, ignore_index=True)\n",
    "\n",
    "\n",
    "# def convert_dataframe_to_dataset(dataframe):\n",
    "#     return Dataset.from_pandas(dataframe)\n",
    "\n",
    "\n",
    "# # def load_audio(batch):\n",
    "# #     audio_data, _ = librosa.load(batch['path'], sr=16000)\n",
    "# #     batch[\"audio\"] = audio_data\n",
    "# #     return batch\n",
    "\n",
    "\n",
    "# # dataset = dataset.map(load_audio)\n",
    "# directory_path = \"/content/drive/MyDrive/uaspeechall/data\"  # Update this path\n",
    "# df = load_parquet_directory(directory_path, use_narrow_data=True)\n",
    "# dataset = convert_dataframe_to_dataset(df)"
   ]
  },
  {
   "cell_type": "code",
   "execution_count": 2,
   "metadata": {
    "colab": {
     "base_uri": "https://localhost:8080/"
    },
    "id": "RB7FFcevLuFW",
    "outputId": "074df75d-99f2-4254-896c-93eeb6db8825",
    "tags": []
   },
   "outputs": [
    {
     "data": {
      "text/plain": [
       "DatasetDict({\n",
       "    train: Dataset({\n",
       "        features: ['path', 'audio', 'transcription'],\n",
       "        num_rows: 2203\n",
       "    })\n",
       "    test: Dataset({\n",
       "        features: ['path', 'audio', 'transcription'],\n",
       "        num_rows: 551\n",
       "    })\n",
       "})"
      ]
     },
     "execution_count": 2,
     "metadata": {},
     "output_type": "execute_result"
    }
   ],
   "source": [
    "dataset"
   ]
  },
  {
   "cell_type": "code",
   "execution_count": 4,
   "metadata": {
    "colab": {
     "base_uri": "https://localhost:8080/"
    },
    "id": "rkMZdMhnw3ai",
    "outputId": "a5849e76-c725-4481-860d-c1e534558ca9",
    "tags": []
   },
   "outputs": [
    {
     "name": "stdout",
     "output_type": "stream",
     "text": [
      "Looking in indexes: http://mirrors.aliyun.com/pypi/simple\n",
      "Collecting torchaudio\n",
      "  Downloading http://mirrors.aliyun.com/pypi/packages/f6/78/39cd34c85398630b08f5bf92e11a5bb86c15e102a81f6ae5e375a13cf38c/torchaudio-2.3.1-cp38-cp38-manylinux1_x86_64.whl (3.3 MB)\n",
      "\u001b[K     |████████████████████████████████| 3.3 MB 480 kB/s eta 0:00:01\n",
      "\u001b[?25hCollecting pydub\n",
      "  Downloading http://mirrors.aliyun.com/pypi/packages/a6/53/d78dc063216e62fc55f6b2eebb447f6a4b0a59f55c8406376f76bf959b08/pydub-0.25.1-py2.py3-none-any.whl (32 kB)\n",
      "Collecting torch==2.3.1\n",
      "  Downloading http://mirrors.aliyun.com/pypi/packages/c0/7e/309d63c6330a0b821a6f55e06dcef6704a7ab8b707534a4923837570624e/torch-2.3.1-cp38-cp38-manylinux1_x86_64.whl (779.1 MB)\n",
      "\u001b[K     |█                               | 22.3 MB 433 kB/s eta 0:29:06^C\n",
      "\n",
      "\u001b[31mERROR: Operation cancelled by user\u001b[0m\n",
      "\u001b[?25h"
     ]
    }
   ],
   "source": [
    "!pip install torchaudio pydub"
   ]
  },
  {
   "cell_type": "code",
   "execution_count": 5,
   "metadata": {
    "colab": {
     "base_uri": "https://localhost:8080/"
    },
    "collapsed": true,
    "id": "rULPlw6Qy8O2",
    "jupyter": {
     "outputs_hidden": true
    },
    "outputId": "dd32972a-5585-4bcd-be42-ef245ca1c92a",
    "tags": []
   },
   "outputs": [
    {
     "ename": "KeyError",
     "evalue": "\"Invalid key: 0. Please first select a split. For example: `my_dataset_dictionary['train'][0]`. Available splits: ['test', 'train']\"",
     "output_type": "error",
     "traceback": [
      "\u001b[0;31m---------------------------------------------------------------------------\u001b[0m",
      "\u001b[0;31mKeyError\u001b[0m                                  Traceback (most recent call last)",
      "Cell \u001b[0;32mIn[6], line 1\u001b[0m\n\u001b[0;32m----> 1\u001b[0m \u001b[38;5;28mprint\u001b[39m(\u001b[43mdataset\u001b[49m\u001b[43m[\u001b[49m\u001b[38;5;241;43m0\u001b[39;49m\u001b[43m]\u001b[49m[\u001b[38;5;124m\"\u001b[39m\u001b[38;5;124maudio\u001b[39m\u001b[38;5;124m\"\u001b[39m])\n",
      "File \u001b[0;32m~/miniconda3/lib/python3.8/site-packages/datasets/dataset_dict.py:81\u001b[0m, in \u001b[0;36mDatasetDict.__getitem__\u001b[0;34m(self, k)\u001b[0m\n\u001b[1;32m     77\u001b[0m available_suggested_splits \u001b[38;5;241m=\u001b[39m [\n\u001b[1;32m     78\u001b[0m     split \u001b[38;5;28;01mfor\u001b[39;00m split \u001b[38;5;129;01min\u001b[39;00m (Split\u001b[38;5;241m.\u001b[39mTRAIN, Split\u001b[38;5;241m.\u001b[39mTEST, Split\u001b[38;5;241m.\u001b[39mVALIDATION) \u001b[38;5;28;01mif\u001b[39;00m split \u001b[38;5;129;01min\u001b[39;00m \u001b[38;5;28mself\u001b[39m\n\u001b[1;32m     79\u001b[0m ]\n\u001b[1;32m     80\u001b[0m suggested_split \u001b[38;5;241m=\u001b[39m available_suggested_splits[\u001b[38;5;241m0\u001b[39m] \u001b[38;5;28;01mif\u001b[39;00m available_suggested_splits \u001b[38;5;28;01melse\u001b[39;00m \u001b[38;5;28mlist\u001b[39m(\u001b[38;5;28mself\u001b[39m)[\u001b[38;5;241m0\u001b[39m]\n\u001b[0;32m---> 81\u001b[0m \u001b[38;5;28;01mraise\u001b[39;00m \u001b[38;5;167;01mKeyError\u001b[39;00m(\n\u001b[1;32m     82\u001b[0m     \u001b[38;5;124mf\u001b[39m\u001b[38;5;124m\"\u001b[39m\u001b[38;5;124mInvalid key: \u001b[39m\u001b[38;5;132;01m{\u001b[39;00mk\u001b[38;5;132;01m}\u001b[39;00m\u001b[38;5;124m. Please first select a split. For example: \u001b[39m\u001b[38;5;124m\"\u001b[39m\n\u001b[1;32m     83\u001b[0m     \u001b[38;5;124mf\u001b[39m\u001b[38;5;124m\"\u001b[39m\u001b[38;5;124m`my_dataset_dictionary[\u001b[39m\u001b[38;5;124m'\u001b[39m\u001b[38;5;132;01m{\u001b[39;00msuggested_split\u001b[38;5;132;01m}\u001b[39;00m\u001b[38;5;124m'\u001b[39m\u001b[38;5;124m][\u001b[39m\u001b[38;5;132;01m{\u001b[39;00mk\u001b[38;5;132;01m}\u001b[39;00m\u001b[38;5;124m]`. \u001b[39m\u001b[38;5;124m\"\u001b[39m\n\u001b[1;32m     84\u001b[0m     \u001b[38;5;124mf\u001b[39m\u001b[38;5;124m\"\u001b[39m\u001b[38;5;124mAvailable splits: \u001b[39m\u001b[38;5;132;01m{\u001b[39;00m\u001b[38;5;28msorted\u001b[39m(\u001b[38;5;28mself\u001b[39m)\u001b[38;5;132;01m}\u001b[39;00m\u001b[38;5;124m\"\u001b[39m\n\u001b[1;32m     85\u001b[0m )\n",
      "\u001b[0;31mKeyError\u001b[0m: \"Invalid key: 0. Please first select a split. For example: `my_dataset_dictionary['train'][0]`. Available splits: ['test', 'train']\""
     ]
    }
   ],
   "source": [
    "print(dataset[0][\"audio\"].keys())"
   ]
  },
  {
   "cell_type": "code",
   "execution_count": 4,
   "metadata": {
    "colab": {
     "base_uri": "https://localhost:8080/",
     "height": 49,
     "referenced_widgets": [
      "93648628825f449dbe5d3f9747db63a4",
      "c1956da25c8a4494bbc2bec8ddd75610",
      "0934bce676574a199a564b9f8ded6d1e",
      "bcfb7a7597e3452490b3c6200718d787",
      "1f7cad837232406aa7e9804ae3117b5b",
      "5343b93aceea4c1db51d16447405e7d2",
      "4c7829c796684c818a7095c2232ee0a9",
      "7bf1706997da4a94a31999a455aef9a4",
      "562634158db644339ad7e0c1a77225c6",
      "58512511499b41d599f83d8294f7899f",
      "d2e9894aa2c441449baedf556157b27c"
     ]
    },
    "id": "AegPlh0xw3vl",
    "outputId": "87daa8d5-6e23-46cd-ed6f-c91808e51170",
    "tags": []
   },
   "outputs": [
    {
     "data": {
      "application/vnd.jupyter.widget-view+json": {
       "model_id": "44b391c857074c1face956a924e5d1f8",
       "version_major": 2,
       "version_minor": 0
      },
      "text/plain": [
       "Map:   0%|          | 0/2203 [00:00<?, ? examples/s]"
      ]
     },
     "metadata": {},
     "output_type": "display_data"
    },
    {
     "data": {
      "application/vnd.jupyter.widget-view+json": {
       "model_id": "3c83d8b1b5374ab98374bf46f79654d2",
       "version_major": 2,
       "version_minor": 0
      },
      "text/plain": [
       "Map:   0%|          | 0/551 [00:00<?, ? examples/s]"
      ]
     },
     "metadata": {},
     "output_type": "display_data"
    }
   ],
   "source": [
    "# import io\n",
    "\n",
    "# import numpy as np\n",
    "# from pydub import AudioSegment\n",
    "\n",
    "\n",
    "# def convert_audio_format(batch):\n",
    "#     # Extract the audio data from the dictionary\n",
    "#     audio_bytes = batch[\"audio\"][\"bytes\"]  # Replace \"data\" with the correct key\n",
    "#     # audio_bytes = batch[\"audio\"]\n",
    "#     # Convert binary data to audio array\n",
    "#     audio_data = AudioSegment.from_file(io.BytesIO(audio_bytes), format=\"wav\")\n",
    "#     # Convert to a NumPy array and normalize\n",
    "#     audio_array = np.array(audio_data.get_array_of_samples()).astype(np.float32) / 2**15\n",
    "\n",
    "#     # Update the audio dictionary\n",
    "#     batch[\"audio\"] = {\"array\": audio_array, \"sampling_rate\": 16000}\n",
    "#     return batch\n",
    "\n",
    "\n",
    "# # Apply the conversion function to the dataset\n",
    "# dataset = dataset.map(convert_audio_format)\n",
    "\n",
    "\n",
    "import io\n",
    "import numpy as np\n",
    "from pydub import AudioSegment\n",
    "\n",
    "def convert_audio_format(batch):\n",
    "    # 从字典中提取音频数据\n",
    "    audio_array = batch[\"audio\"][\"array\"]\n",
    "    sampling_rate = batch[\"audio\"][\"sampling_rate\"]\n",
    "\n",
    "    # 将 NumPy 数组转换为二进制数据\n",
    "    # 根据 NumPy 数组的数据类型设置 sample_width\n",
    "    if audio_array.dtype == np.int16:\n",
    "        sample_width = 2\n",
    "    elif audio_array.dtype == np.int32:\n",
    "        sample_width = 4\n",
    "    else:\n",
    "        # 如果不是整数类型，假设为 float32，并将其转换为 int16\n",
    "        audio_array = (audio_array * 2**15).astype(np.int16)\n",
    "        sample_width = 2\n",
    "\n",
    "    audio_segment = AudioSegment(\n",
    "        data=audio_array.tobytes(), \n",
    "        frame_rate=sampling_rate,\n",
    "        sample_width=sample_width,\n",
    "        channels=1\n",
    "    )\n",
    "\n",
    "    # 将音频段转换为字节\n",
    "    audio_bytes_io = io.BytesIO()\n",
    "    audio_segment.export(audio_bytes_io, format=\"wav\")\n",
    "    audio_bytes = audio_bytes_io.getvalue()\n",
    "\n",
    "    # 重新加载字节数据为音频数组\n",
    "    audio_data = AudioSegment.from_file(io.BytesIO(audio_bytes), format=\"wav\")\n",
    "    audio_array = np.array(audio_data.get_array_of_samples()).astype(np.float32) / 2**15\n",
    "\n",
    "    # 更新音频字典\n",
    "    batch[\"audio\"] = {\"array\": audio_array, \"sampling_rate\": 16000}\n",
    "    return batch\n",
    "\n",
    "# 将转换函数应用到数据集\n",
    "dataset = dataset.map(convert_audio_format)\n"
   ]
  },
  {
   "cell_type": "code",
   "execution_count": 9,
   "metadata": {
    "tags": []
   },
   "outputs": [
    {
     "data": {
      "text/plain": [
       "DatasetDict({\n",
       "    train: Dataset({\n",
       "        features: ['path', 'audio', 'transcription'],\n",
       "        num_rows: 2203\n",
       "    })\n",
       "    test: Dataset({\n",
       "        features: ['path', 'audio', 'transcription'],\n",
       "        num_rows: 551\n",
       "    })\n",
       "})"
      ]
     },
     "execution_count": 9,
     "metadata": {},
     "output_type": "execute_result"
    }
   ],
   "source": [
    "dataset"
   ]
  },
  {
   "cell_type": "code",
   "execution_count": null,
   "metadata": {
    "collapsed": true,
    "id": "x2Tnx-_CqTzh",
    "jupyter": {
     "outputs_hidden": true
    },
    "tags": []
   },
   "outputs": [
    {
     "ename": "AttributeError",
     "evalue": "'DatasetDict' object has no attribute 'train_test_split'",
     "output_type": "error",
     "traceback": [
      "\u001b[0;31m---------------------------------------------------------------------------\u001b[0m",
      "\u001b[0;31mAttributeError\u001b[0m                            Traceback (most recent call last)",
      "Cell \u001b[0;32mIn[8], line 6\u001b[0m\n\u001b[1;32m      2\u001b[0m \u001b[38;5;28;01mfrom\u001b[39;00m \u001b[38;5;21;01mdatasets\u001b[39;00m \u001b[38;5;28;01mimport\u001b[39;00m DatasetDict\n\u001b[1;32m      5\u001b[0m \u001b[38;5;66;03m# 对数据集进行拆分\u001b[39;00m\n\u001b[0;32m----> 6\u001b[0m train_test_split \u001b[38;5;241m=\u001b[39m \u001b[43mdataset\u001b[49m\u001b[38;5;241;43m.\u001b[39;49m\u001b[43mtrain_test_split\u001b[49m(test_size\u001b[38;5;241m=\u001b[39m\u001b[38;5;241m0.2\u001b[39m)\n\u001b[1;32m      8\u001b[0m \u001b[38;5;66;03m# 将拆分后的数据集重新组合为 DatasetDict 对象\u001b[39;00m\n\u001b[1;32m      9\u001b[0m dataset \u001b[38;5;241m=\u001b[39m DatasetDict({\n\u001b[1;32m     10\u001b[0m     \u001b[38;5;124m\"\u001b[39m\u001b[38;5;124mtrain\u001b[39m\u001b[38;5;124m\"\u001b[39m: train_test_split[\u001b[38;5;124m\"\u001b[39m\u001b[38;5;124mtrain\u001b[39m\u001b[38;5;124m\"\u001b[39m],\n\u001b[1;32m     11\u001b[0m     \u001b[38;5;124m\"\u001b[39m\u001b[38;5;124mtest\u001b[39m\u001b[38;5;124m\"\u001b[39m: train_test_split[\u001b[38;5;124m\"\u001b[39m\u001b[38;5;124mtest\u001b[39m\u001b[38;5;124m\"\u001b[39m]\n\u001b[1;32m     12\u001b[0m })\n",
      "\u001b[0;31mAttributeError\u001b[0m: 'DatasetDict' object has no attribute 'train_test_split'"
     ]
    }
   ],
   "source": [
    "# dataset = dataset.train_test_split(test_size=0.2)"
   ]
  },
  {
   "cell_type": "code",
   "execution_count": 10,
   "metadata": {
    "id": "2MMXcWFFgCXU",
    "tags": []
   },
   "outputs": [],
   "source": [
    "from datasets import Audio, load_dataset, load_metric\n",
    "\n",
    "common_voice_train = dataset[\"train\"]\n",
    "common_voice_test = dataset[\"test\"]"
   ]
  },
  {
   "cell_type": "code",
   "execution_count": 11,
   "metadata": {
    "colab": {
     "base_uri": "https://localhost:8080/"
    },
    "id": "xE3rKtghu_zE",
    "outputId": "28b24740-6a9e-4703-e635-4af4b9b4acc1",
    "tags": []
   },
   "outputs": [
    {
     "data": {
      "text/plain": [
       "{'path': '/root/autodl-tmp/TORGO/data/M_M04_Session2_0053.wav',\n",
       " 'audio': {'path': None,\n",
       "  'array': array([ 0.00079346, -0.00076294,  0.00067139, ...,  0.00933838,\n",
       "          0.00872803,  0.00534058]),\n",
       "  'sampling_rate': 16000},\n",
       " 'transcription': 'dug'}"
      ]
     },
     "execution_count": 11,
     "metadata": {},
     "output_type": "execute_result"
    }
   ],
   "source": [
    "common_voice_train[0]"
   ]
  },
  {
   "cell_type": "markdown",
   "metadata": {
    "id": "ri5y5N_HMANq"
   },
   "source": [
    "Many ASR datasets only provide the target text, `'sentence'` for each audio array `'audio'` and file `'path'`. Common Voice actually provides much more information about each audio file, such as the `'accent'`, etc. Keeping the notebook as general as possible, we only consider the transcribed text for fine-tuning.\n",
    "\n"
   ]
  },
  {
   "cell_type": "code",
   "execution_count": null,
   "metadata": {
    "id": "kbyq6lDgQc2a"
   },
   "outputs": [],
   "source": [
    "# common_voice_train = common_voice_train.remove_columns([\"accent\", \"age\", \"client_id\", \"down_votes\", \"gender\", \"locale\", \"segment\", \"up_votes\"])\n",
    "# common_voice_test = common_voice_test.remove_columns([\"accent\", \"age\", \"client_id\", \"down_votes\", \"gender\", \"locale\", \"segment\", \"up_votes\"])"
   ]
  },
  {
   "cell_type": "markdown",
   "metadata": {
    "id": "Go9Hq4e4NDT9"
   },
   "source": [
    "Let's write a short function to display some random samples of the dataset and run it a couple of times to get a feeling for the transcriptions."
   ]
  },
  {
   "cell_type": "code",
   "execution_count": 12,
   "metadata": {
    "colab": {
     "base_uri": "https://localhost:8080/"
    },
    "id": "72737oog2F6U",
    "outputId": "10c7688c-287a-42e3-e1f6-a16b1ac79309",
    "tags": []
   },
   "outputs": [
    {
     "name": "stdout",
     "output_type": "stream",
     "text": [
      "Transcription: when all else fails use force\n",
      "Audio: Not in binary format\n",
      "Transcription: storm\n",
      "Audio: Not in binary format\n",
      "Transcription: tell\n",
      "Audio: Not in binary format\n",
      "Transcription: whoop\n",
      "Audio: Not in binary format\n",
      "Transcription: papa\n",
      "Audio: Not in binary format\n",
      "Transcription: go\n",
      "Audio: Not in binary format\n",
      "Transcription: but he always answers banana oil\n",
      "Audio: Not in binary format\n",
      "Transcription: hair\n",
      "Audio: Not in binary format\n",
      "Transcription: a roll of wire lay near the wall\n",
      "Audio: Not in binary format\n",
      "Transcription: students watched as he got out\n",
      "Audio: Not in binary format\n"
     ]
    }
   ],
   "source": [
    "import random\n",
    "\n",
    "import pandas as pd\n",
    "from datasets import ClassLabel\n",
    "from IPython.display import HTML, Audio, display\n",
    "\n",
    "\n",
    "def show_random_elements(dataset, num_examples=10):\n",
    "    assert num_examples <= len(dataset), \"Can't pick more elements than there are in the dataset.\"\n",
    "\n",
    "    for _ in range(num_examples):\n",
    "        index = random.randint(0, len(dataset) - 1)\n",
    "        example = dataset[index]\n",
    "\n",
    "        print(\"Transcription:\", example[\"transcription\"])\n",
    "        # Handle audio data: Displaying as an Audio widget if it's in a binary format\n",
    "        if isinstance(example[\"audio\"], bytes):\n",
    "            display(\n",
    "                Audio(data=example[\"audio\"], rate=16000)\n",
    "            )  # Adjust the rate as per your dataset\n",
    "        else:\n",
    "            print(\"Audio: Not in binary format\")\n",
    "\n",
    "\n",
    "show_random_elements(common_voice_train, num_examples=10)"
   ]
  },
  {
   "cell_type": "code",
   "execution_count": 13,
   "metadata": {
    "colab": {
     "base_uri": "https://localhost:8080/"
    },
    "id": "K_JUmf3G3b9S",
    "outputId": "90473eb3-ff29-4dc0-f89d-2eabf2c51816",
    "tags": []
   },
   "outputs": [
    {
     "name": "stdout",
     "output_type": "stream",
     "text": [
      "Transcription: pitting\n",
      "Audio: Not in binary format\n",
      "Transcription: spark\n",
      "Audio: Not in binary format\n",
      "Transcription: bubble\n",
      "Audio: Not in binary format\n",
      "Transcription: relax\n",
      "Audio: Not in binary format\n",
      "Transcription: of\n",
      "Audio: Not in binary format\n",
      "Transcription: i've kept it with me ever since\n",
      "Audio: Not in binary format\n",
      "Transcription: day after day some new episode is reported\n",
      "Audio: Not in binary format\n",
      "Transcription: in fact our whole defensive unit did a good job\n",
      "Audio: Not in binary format\n",
      "Transcription: fair\n",
      "Audio: Not in binary format\n",
      "Transcription: meat\n",
      "Audio: Not in binary format\n"
     ]
    }
   ],
   "source": [
    "show_random_elements(common_voice_train, num_examples=10)"
   ]
  },
  {
   "cell_type": "markdown",
   "metadata": {
    "id": "fowcOllGNNju"
   },
   "source": [
    "Alright! The transcriptions look fairly clean. Having translated the transcribed sentences, it seems that the language corresponds more to written-out text than noisy dialogue. This makes sense considering that [Common Voice](https://huggingface.co/datasets/common_voice) is a crowd-sourced read speech corpus."
   ]
  },
  {
   "cell_type": "markdown",
   "metadata": {
    "id": "vq7OR50LN49m"
   },
   "source": [
    "We can see that the transcriptions contain some special characters, such as `,.?!;:`. Without a language model, it is much harder to classify speech chunks to such special characters because they don't really correspond to a characteristic sound unit. *E.g.*, the letter `\"s\"` has a more or less clear sound, whereas the special character `\".\"` does not.\n",
    "Also in order to understand the meaning of a speech signal, it is usually not necessary to include special characters in the transcription.\n",
    "\n",
    "Let's simply remove all characters that don't contribute to the meaning of a word and cannot really be represented by an acoustic sound and normalize the text."
   ]
  },
  {
   "cell_type": "code",
   "execution_count": 21,
   "metadata": {
    "id": "svKzVJ_hQGK6",
    "tags": []
   },
   "outputs": [],
   "source": [
    "import re\n",
    "\n",
    "chars_to_remove_regex = \"[\\,\\?\\.\\!\\-\\;\\:\\\"\\“\\%\\‘\\”\\�'\\x1b]\"\n",
    "\n",
    "\n",
    "def remove_special_characters(batch):\n",
    "    batch[\"transcription\"] = re.sub(chars_to_remove_regex, \"\", batch[\"transcription\"]).lower()\n",
    "    return batch"
   ]
  },
  {
   "cell_type": "code",
   "execution_count": 22,
   "metadata": {
    "colab": {
     "base_uri": "https://localhost:8080/",
     "height": 81,
     "referenced_widgets": [
      "0916726aebc54174b1f04a34b58b96fe",
      "880a6659daec40ffb8bbe7f134bf0c3e",
      "2120e88c22364be189498b9a3c076dad",
      "b3cf4a431aab4a2c8d85a5da78e0b9bc",
      "6410a6ac383e4d8da2036e1d05d29ba8",
      "ab55b0085e394a8380678c13bfc34d63",
      "98a9c8f47e0c49dba53b0acd16e9864d",
      "c468c89b5eb7458387c9e3bec48eafa2",
      "432f2c3371a94926902e792aff89f0b1",
      "b2ba19ee4dcf4ba6b537e151079789ab",
      "301cc631a3ef487c9f0a379071810da4",
      "1db58d1db1ea4ba4ad4041780372b29e",
      "f84b01a119354da5a387f570e2bb20f6",
      "b497f1d13e064c1f85689110859dfde7",
      "985ecb40edfd40af8b72cc9a7fe52eee",
      "5bdcd4bc1eac45d5b75747700507f3ac",
      "672e96d17e4c402490588d04f28d67ab",
      "2187411cd2bc4c4cb9b1edc43fe0458d",
      "86e9bf5e58994e22b526ea87231dc5b4",
      "104d2af972ee47f1b14ea0faf692035c",
      "72b54f71afc247879962dd0fed69a999",
      "a2953141df264e6dafe30e4e7f1ea561"
     ]
    },
    "id": "XIHocAuTQbBR",
    "outputId": "2af777d8-4ab3-4fc6-b0fd-7c32ba8e41df",
    "tags": []
   },
   "outputs": [
    {
     "data": {
      "application/vnd.jupyter.widget-view+json": {
       "model_id": "433bd1068dda4d718bad4ec0d1d13136",
       "version_major": 2,
       "version_minor": 0
      },
      "text/plain": [
       "Map:   0%|          | 0/2203 [00:00<?, ? examples/s]"
      ]
     },
     "metadata": {},
     "output_type": "display_data"
    },
    {
     "data": {
      "application/vnd.jupyter.widget-view+json": {
       "model_id": "6509878b375c41518105be35a6f98181",
       "version_major": 2,
       "version_minor": 0
      },
      "text/plain": [
       "Map:   0%|          | 0/551 [00:00<?, ? examples/s]"
      ]
     },
     "metadata": {},
     "output_type": "display_data"
    }
   ],
   "source": [
    "common_voice_train = common_voice_train.map(remove_special_characters)\n",
    "common_voice_test = common_voice_test.map(remove_special_characters)"
   ]
  },
  {
   "cell_type": "markdown",
   "metadata": {
    "id": "TxnVS9gIhIma"
   },
   "source": [
    "Let's look at the processed text labels again."
   ]
  },
  {
   "cell_type": "code",
   "execution_count": 23,
   "metadata": {
    "colab": {
     "base_uri": "https://localhost:8080/"
    },
    "id": "RBDRAAYxRE6n",
    "outputId": "58d54fc2-fb68-4d13-9159-ef84519117f6",
    "tags": []
   },
   "outputs": [
    {
     "name": "stdout",
     "output_type": "stream",
     "text": [
      "Transcription: she is thinner than i am\n",
      "Audio: Not in binary format\n",
      "Transcription: he further proposed grants of an unspecified sum for experimental hospitals\n",
      "Audio: Not in binary format\n",
      "Transcription: nest\n",
      "Audio: Not in binary format\n",
      "Transcription: fate\n",
      "Audio: Not in binary format\n",
      "Transcription: sigh\n",
      "Audio: Not in binary format\n",
      "Transcription: vat\n",
      "Audio: Not in binary format\n",
      "Transcription: deer\n",
      "Audio: Not in binary format\n",
      "Transcription: write\n",
      "Audio: Not in binary format\n",
      "Transcription: born\n",
      "Audio: Not in binary format\n",
      "Transcription: knew\n",
      "Audio: Not in binary format\n"
     ]
    }
   ],
   "source": [
    "show_random_elements(common_voice_train)"
   ]
  },
  {
   "cell_type": "markdown",
   "metadata": {
    "id": "jwfaptH5RJwA"
   },
   "source": [
    "Good! This looks better. We have removed most special characters from transcriptions and normalized them to lower-case only.\n",
    "\n",
    "Before finalizing the pre-processing, it is always advantageous to consult a native speaker of the target language to see whether the text can be further simplified.\n",
    "For this blog post, [Merve](https://twitter.com/mervenoyann) was kind enough to take a quick look and noted that \"hatted\" characters - like `â` - aren't really used anymore in Turkish and can be replaced by their \"un-hatted\" equivalent, *e.g.* `a`.\n",
    "\n",
    "This means that we should replace a sentence like `\"yargı sistemi hâlâ sağlıksız\"` to `\"yargı sistemi hala sağlıksız\"`.\n",
    "\n",
    "Let's write another short mapping function to further simplify the text labels. Remember - the simler the text labels, the easier it is for the model to learn to predict those labels.\n",
    "\n"
   ]
  },
  {
   "cell_type": "markdown",
   "metadata": {
    "id": "3ORHDb2Th2TW"
   },
   "source": [
    "In CTC, it is common to classify speech chunks into letters, so we will do the same here.\n",
    "Let's extract all distinct letters of the training and test data and build our vocabulary from this set of letters.\n",
    "\n",
    "We write a mapping function that concatenates all transcriptions into one long transcription and then transforms the string into a set of chars.\n",
    "It is important to pass the argument `batched=True` to the `map(...)` function so that the mapping function has access to all transcriptions at once."
   ]
  },
  {
   "cell_type": "code",
   "execution_count": 24,
   "metadata": {
    "id": "LwCshNbbeRZR",
    "tags": []
   },
   "outputs": [],
   "source": [
    "def extract_all_chars(batch):\n",
    "    all_text = \" \".join(batch[\"transcription\"])\n",
    "    vocab = list(set(all_text))\n",
    "    return {\"vocab\": [vocab], \"all_text\": [all_text]}"
   ]
  },
  {
   "cell_type": "code",
   "execution_count": 25,
   "metadata": {
    "colab": {
     "base_uri": "https://localhost:8080/",
     "height": 81,
     "referenced_widgets": [
      "a26bd9bb24bb441287caa7b62089780f",
      "efcc0cb02fb24f7da9f6bca8d283c77b",
      "ffb79698dedd4a45aa75805ef8e973e7",
      "0f2d26f92c9b4db2b67d48176c982483",
      "8189bed1aafc4944bea3ad0e5a5ee0fb",
      "d5e40b24df5d4d909660d1789fbf6f32",
      "8eb71778c21f414e9968469a0cef9dba",
      "358ed0628e68425a9463818762764d74",
      "0779eb9b72ae46289bdffd4fe6a2aaa8",
      "e76b0f11e396424dac7818b3b52f67fb",
      "fcc035da73b54b808ad83ff7cf572aed",
      "467d65013eeb4e0090f5b3df748f06be",
      "e84db8073fb7467a9cb209667ad72148",
      "037cdadf41414d0fb92b4c4474857e26",
      "9ea0167433d04e3ab127c1506522a0c4",
      "a90dacde984e46bfac1d75baed34b604",
      "689487d77913425490936175daaec991",
      "10bd0f8ccbb348148ce1f496a610f4a7",
      "a4c00aa8c56d4754922e95513ec77eb5",
      "e4150d45c7b94126a62548c1aa11ea57",
      "839aea443cae470c94aff78eb54145ae",
      "610748641993409682ed9e91877982ca"
     ]
    },
    "id": "_m6uUjjcfbjH",
    "outputId": "b136c7d6-ebb5-4049-f482-5930ad33997b",
    "tags": []
   },
   "outputs": [
    {
     "data": {
      "application/vnd.jupyter.widget-view+json": {
       "model_id": "05e6d181a0ac4e7f81d9f5bda127365d",
       "version_major": 2,
       "version_minor": 0
      },
      "text/plain": [
       "Map:   0%|          | 0/2203 [00:00<?, ? examples/s]"
      ]
     },
     "metadata": {},
     "output_type": "display_data"
    },
    {
     "data": {
      "application/vnd.jupyter.widget-view+json": {
       "model_id": "8e668f451a394b12ae90b4e963f653b4",
       "version_major": 2,
       "version_minor": 0
      },
      "text/plain": [
       "Map:   0%|          | 0/551 [00:00<?, ? examples/s]"
      ]
     },
     "metadata": {},
     "output_type": "display_data"
    }
   ],
   "source": [
    "vocab_train = common_voice_train.map(\n",
    "    extract_all_chars,\n",
    "    batched=True,\n",
    "    batch_size=-1,\n",
    "    keep_in_memory=True,\n",
    "    remove_columns=common_voice_train.column_names,\n",
    ")\n",
    "vocab_test = common_voice_test.map(\n",
    "    extract_all_chars,\n",
    "    batched=True,\n",
    "    batch_size=-1,\n",
    "    keep_in_memory=True,\n",
    "    remove_columns=common_voice_test.column_names,\n",
    ")"
   ]
  },
  {
   "cell_type": "markdown",
   "metadata": {
    "id": "7oVgE8RZSJNP"
   },
   "source": [
    "Now, we create the union of all distinct letters in the training dataset and test dataset and convert the resulting list into an enumerated dictionary."
   ]
  },
  {
   "cell_type": "code",
   "execution_count": 26,
   "metadata": {
    "id": "aQfneNsmlJI0",
    "tags": []
   },
   "outputs": [],
   "source": [
    "vocab_list = list(set(vocab_train[\"vocab\"][0]) | set(vocab_test[\"vocab\"][0]))"
   ]
  },
  {
   "cell_type": "code",
   "execution_count": 27,
   "metadata": {
    "colab": {
     "base_uri": "https://localhost:8080/"
    },
    "id": "_0kRndSvqaKk",
    "outputId": "e1bd854f-dd28-4519-aeec-f2383d274a66",
    "tags": []
   },
   "outputs": [
    {
     "data": {
      "text/plain": [
       "{' ': 0,\n",
       " 'a': 1,\n",
       " 'b': 2,\n",
       " 'c': 3,\n",
       " 'd': 4,\n",
       " 'e': 5,\n",
       " 'f': 6,\n",
       " 'g': 7,\n",
       " 'h': 8,\n",
       " 'i': 9,\n",
       " 'j': 10,\n",
       " 'k': 11,\n",
       " 'l': 12,\n",
       " 'm': 13,\n",
       " 'n': 14,\n",
       " 'o': 15,\n",
       " 'p': 16,\n",
       " 'q': 17,\n",
       " 'r': 18,\n",
       " 's': 19,\n",
       " 't': 20,\n",
       " 'u': 21,\n",
       " 'v': 22,\n",
       " 'w': 23,\n",
       " 'x': 24,\n",
       " 'y': 25,\n",
       " 'z': 26}"
      ]
     },
     "execution_count": 27,
     "metadata": {},
     "output_type": "execute_result"
    }
   ],
   "source": [
    "vocab_dict = {v: k for k, v in enumerate(sorted(vocab_list))}\n",
    "vocab_dict"
   ]
  },
  {
   "cell_type": "markdown",
   "metadata": {
    "id": "JOSzbvs9SXT1"
   },
   "source": [
    "Cool, we see that all letters of the alphabet occur in the dataset (which is not really surprising) and we also extracted the special characters `\"\"` and `'`. Note that we did not exclude those special characters because:\n",
    "\n",
    "The model has to learn to predict when a word is finished or else the model prediction would always be a sequence of chars which would make it impossible to separate words from each other.\n",
    "\n",
    "One should always keep in mind that pre-processing is a very important step before training your model. E.g., we don't want our model to differentiate between `a` and `A` just because we forgot to normalize the data. The difference between `a` and `A` does not depend on the \"sound\" of the letter at all, but more on grammatical rules - *e.g.* use a capitalized letter at the beginning of the sentence. So it is sensible to remove the difference between capitalized and non-capitalized letters so that the model has an easier time learning to transcribe speech."
   ]
  },
  {
   "cell_type": "markdown",
   "metadata": {
    "id": "b1fBRCn-TRaO"
   },
   "source": [
    "To make it clearer that `\" \"` has its own token class, we give it a more visible character `|`. In addition, we also add an \"unknown\" token so that the model can later deal with characters not encountered in Common Voice's training set."
   ]
  },
  {
   "cell_type": "code",
   "execution_count": 28,
   "metadata": {
    "id": "npbIbBoLgaFX",
    "tags": []
   },
   "outputs": [],
   "source": [
    "vocab_dict[\"|\"] = vocab_dict[\" \"]\n",
    "del vocab_dict[\" \"]"
   ]
  },
  {
   "cell_type": "markdown",
   "metadata": {
    "id": "_9yCWg4Sd0cb"
   },
   "source": [
    "Finally, we also add a padding token that corresponds to CTC's \"*blank token*\". The \"blank token\" is a core component of the CTC algorithm. For more information, please take a look at the \"Alignment\" section [here](https://distill.pub/2017/ctc/)."
   ]
  },
  {
   "cell_type": "code",
   "execution_count": 29,
   "metadata": {
    "colab": {
     "base_uri": "https://localhost:8080/"
    },
    "id": "znF0bNunsjbl",
    "outputId": "0352978a-1dbd-45fb-a9f4-4b9c4f49aa12",
    "tags": []
   },
   "outputs": [
    {
     "data": {
      "text/plain": [
       "29"
      ]
     },
     "execution_count": 29,
     "metadata": {},
     "output_type": "execute_result"
    }
   ],
   "source": [
    "vocab_dict[\"[UNK]\"] = len(vocab_dict)\n",
    "vocab_dict[\"[PAD]\"] = len(vocab_dict)\n",
    "len(vocab_dict)"
   ]
  },
  {
   "cell_type": "markdown",
   "metadata": {
    "id": "SFPGfet8U5sL"
   },
   "source": [
    "Cool, now our vocabulary is complete and consists of 39 tokens, which means that the linear layer that we will add on top of the pretrained XLS-R checkpoint will have an output dimension of 39."
   ]
  },
  {
   "cell_type": "markdown",
   "metadata": {
    "id": "1CujRgBNVRaD"
   },
   "source": [
    "Let's now save the vocabulary as a json file."
   ]
  },
  {
   "cell_type": "code",
   "execution_count": 30,
   "metadata": {
    "id": "ehyUoh9vk191",
    "tags": []
   },
   "outputs": [],
   "source": [
    "import json\n",
    "\n",
    "with open(\"vocab.json\", \"w\") as vocab_file:\n",
    "    json.dump(vocab_dict, vocab_file)"
   ]
  },
  {
   "cell_type": "markdown",
   "metadata": {
    "id": "SHJDaKlIVVim"
   },
   "source": [
    "In a final step, we use the json file to load the vocabulary into an instance of the `Wav2Vec2CTCTokenizer` class."
   ]
  },
  {
   "cell_type": "code",
   "execution_count": 31,
   "metadata": {
    "id": "xriFGEWQkO4M",
    "tags": []
   },
   "outputs": [],
   "source": [
    "from transformers import Wav2Vec2CTCTokenizer\n",
    "\n",
    "tokenizer = Wav2Vec2CTCTokenizer.from_pretrained(\n",
    "    \"./\", unk_token=\"[UNK]\", pad_token=\"[PAD]\", word_delimiter_token=\"|\"\n",
    ")"
   ]
  },
  {
   "cell_type": "markdown",
   "metadata": {
    "id": "KvL12DrNV4cx"
   },
   "source": [
    "If one wants to re-use the just created tokenizer with the fine-tuned model of this notebook, it is strongly advised to upload the `tokenizer` to the [🤗 Hub](https://huggingface.co/). Let's call the repo to which we will upload the files\n",
    "`\"wav2vec2-large-xlsr-turkish-demo-colab\"`:"
   ]
  },
  {
   "cell_type": "code",
   "execution_count": null,
   "metadata": {
    "id": "A1XApZBAF2zr"
   },
   "outputs": [],
   "source": [
    "repo_name = \"wav2vec2-large-xls-r-300m-dysarthria\""
   ]
  },
  {
   "cell_type": "markdown",
   "metadata": {
    "id": "B1BiezWZF16d"
   },
   "source": [
    "and upload the tokenizer to the [🤗 Hub](https://huggingface.co/)."
   ]
  },
  {
   "cell_type": "code",
   "execution_count": null,
   "metadata": {
    "colab": {
     "base_uri": "https://localhost:8080/",
     "height": 145,
     "referenced_widgets": [
      "19f209bd8f824f35b9c66355c9d8a5ed",
      "f315a1a56b124e8ba9eb4d26123cf8a6",
      "89f6599930674808ba1a8122b5414fe7",
      "44edb1671abc414bbe3ef0c42b45ddc3",
      "f22a53316c1945a59e54ed8d2dc582ea",
      "7feed6991c9f44ef84e90f215871ae86",
      "f922d1087f8840349e7d8f8b0a3c2024",
      "1be4a822c86443b2b1cae26b218bcfe6",
      "2c79fc49efd9409a9c23b1ec7401f028",
      "50300eaeb316422894ac9c2ec5300c51",
      "55861b0e6b96412faad98c5aa64b67ef",
      "0e3799d0b947480785911320e3fd22f2",
      "56ae803beec54b4891b1241b5060f725",
      "1f928af3956843cb8461ffbc815201a4",
      "73efe8f9c458454eb8c8879ffe88e93d",
      "904f27a6de2c4d0da4b7fb5165dedd8b",
      "4b3d7b0fb15041a19b1927b65abf09b0",
      "84e0f49fc6cd4722b5ec4544f152cc8f",
      "489f2e5ca0dc410384d7fbd40005d1f2",
      "263d35ebc8b14542829474e57b40dada",
      "af94367781c14f33a6499748ecf1fd78",
      "b001cb3f06d04526bc8018ad1412ab10",
      "d19a7827720b43a0a79de528f08b7571",
      "15f0483831e04672a2cbfae4ca375ecd",
      "2ba39fb92c87443c86d6b306bec9ccc0",
      "c7a64bdf138b4b5abca5d0a4137e3723",
      "84ee3221090d4b24abf29298fd65f6c7",
      "cf9c14b5cc4845d0a9411fd1c3764319",
      "20d35c77705248dfbaae76055cc77c94",
      "cac22a47f92549a8817eb8d7f24dbbab",
      "fd80bda4b7b546d991764f39507240dc",
      "6b3ca312217d4eadae946f2efa2ca4cb"
     ]
    },
    "id": "swzpf01bb5ss",
    "outputId": "6c3dce63-9f5a-4000-f63a-7ffbd67f5f37"
   },
   "outputs": [],
   "source": [
    "from huggingface_hub import notebook_login\n",
    "\n",
    "notebook_login()"
   ]
  },
  {
   "cell_type": "code",
   "execution_count": null,
   "metadata": {
    "colab": {
     "base_uri": "https://localhost:8080/",
     "height": 54
    },
    "id": "zytE1175GAKM",
    "outputId": "c6a1557d-6141-44cb-d5d7-3bf720da7c24"
   },
   "outputs": [],
   "source": [
    "tokenizer.push_to_hub(repo_name)"
   ]
  },
  {
   "cell_type": "markdown",
   "metadata": {
    "id": "SwQM8lH_GGuP"
   },
   "source": [
    "Great, you can see the just created repository under `https://huggingface.co/<your-username>/wav2vec2-large-xls-r-300m-tr-colab`"
   ]
  },
  {
   "cell_type": "markdown",
   "metadata": {
    "id": "mYcIiR2FQ96i"
   },
   "source": [
    "### Create `Wav2Vec2FeatureExtractor`"
   ]
  },
  {
   "cell_type": "markdown",
   "metadata": {
    "id": "Y6mDEyW719rx"
   },
   "source": [
    "Speech is a continuous signal and to be treated by computers, it first has to be discretized, which is usually called **sampling**. The sampling rate hereby plays an important role in that it defines how many data points of the speech signal are measured per second. Therefore, sampling with a higher sampling rate results in a better approximation of the *real* speech signal but also necessitates more values per second.\n",
    "\n",
    "A pretrained checkpoint expects its input data to have been sampled more or less from the same distribution as the data it was trained on. The same speech signals sampled at two different rates have a very different distribution, *e.g.*, doubling the sampling rate results in data points being twice as long. Thus,\n",
    "before fine-tuning a pretrained checkpoint of an ASR model, it is crucial to verify that the sampling rate of the data that was used to pretrain the model matches the sampling rate of the dataset used to fine-tune the model.\n",
    "\n",
    "XLS-R was pretrained on audio data of [Babel](http://www.reading.ac.uk/AcaDepts/ll/speechlab/babel/r),\n",
    "[Multilingual LibriSpeech (MLS)](https://huggingface.co/datasets/multilingual_librispeech), [Common Voice](https://huggingface.co/datasets/common_voice), [VoxPopuli](https://arxiv.org/abs/2101.00390), and [VoxLingua107](https://arxiv.org/abs/2011.12998) at a sampling rate of 16kHz. Common Voice, in its original form, has a sampling rate of 48kHz, thus we will have to downsample the fine-tuning data to 16kHz in the following.\n",
    "\n"
   ]
  },
  {
   "cell_type": "markdown",
   "metadata": {
    "id": "KuUbPW7oV-B5"
   },
   "source": [
    "A `Wav2Vec2FeatureExtractor` object requires the following parameters to be instantiated:\n",
    "\n",
    "- `feature_size`: Speech models take a sequence of feature vectors as an input. While the length of this sequence obviously varies, the feature size should not. In the case of Wav2Vec2, the feature size is 1 because the model was trained on the raw speech signal ${}^2$.\n",
    "- `sampling_rate`: The sampling rate at which the model is trained on.\n",
    "- `padding_value`: For batched inference, shorter inputs need to be padded with a specific value\n",
    "- `do_normalize`: Whether the input should be *zero-mean-unit-variance* normalized or not. Usually, speech models perform better when normalizing the input\n",
    "- `return_attention_mask`: Whether the model should make use of an `attention_mask` for batched inference. In general, XLS-R models checkpoints should **always** use the `attention_mask`."
   ]
  },
  {
   "cell_type": "code",
   "execution_count": 32,
   "metadata": {
    "id": "kAR0-2KLkopp",
    "tags": []
   },
   "outputs": [],
   "source": [
    "from transformers import Wav2Vec2FeatureExtractor\n",
    "\n",
    "feature_extractor = Wav2Vec2FeatureExtractor(\n",
    "    feature_size=1,\n",
    "    sampling_rate=16000,\n",
    "    padding_value=0.0,\n",
    "    do_normalize=True,\n",
    "    return_attention_mask=True,\n",
    ")"
   ]
  },
  {
   "cell_type": "markdown",
   "metadata": {
    "id": "qUETetgqYC3W"
   },
   "source": [
    "Great, XLS-R's feature extraction pipeline is thereby fully defined!\n",
    "\n",
    "For improved user-friendliness, the feature extractor and tokenizer are *wrapped* into a single `Wav2Vec2Processor` class so that one only needs a `model` and `processor` object."
   ]
  },
  {
   "cell_type": "code",
   "execution_count": 33,
   "metadata": {
    "id": "KYZtoW-tlZgl",
    "tags": []
   },
   "outputs": [],
   "source": [
    "from transformers import Wav2Vec2Processor\n",
    "\n",
    "processor = Wav2Vec2Processor(feature_extractor=feature_extractor, tokenizer=tokenizer)"
   ]
  },
  {
   "cell_type": "markdown",
   "metadata": {
    "id": "DrKnYuvDIoOO"
   },
   "source": [
    "Next, we can prepare the dataset."
   ]
  },
  {
   "cell_type": "markdown",
   "metadata": {
    "id": "YFmShnl7RE35"
   },
   "source": [
    "### Preprocess Data\n",
    "\n",
    "So far, we have not looked at the actual values of the speech signal but just the transcription. In addition to `sentence`, our datasets include two more column names `path` and `audio`. `path` states the absolute path of the audio file. Let's take a look.\n"
   ]
  },
  {
   "cell_type": "code",
   "execution_count": null,
   "metadata": {
    "id": "TTCS7W6XJ9BG"
   },
   "outputs": [],
   "source": [
    "# common_voice_train[0][\"path\"]"
   ]
  },
  {
   "cell_type": "markdown",
   "metadata": {
    "id": "T6ndIjHGFp0W"
   },
   "source": [
    "XLS-R expects the input in the format of a 1-dimensional array of 16 kHz. This means that the audio file has to be loaded and resampled.\n",
    "\n",
    " Thankfully, `datasets` does this automatically by calling the other column `audio`. Let try it out."
   ]
  },
  {
   "cell_type": "code",
   "execution_count": 34,
   "metadata": {
    "colab": {
     "base_uri": "https://localhost:8080/"
    },
    "id": "qj_z5Zc3GAs9",
    "outputId": "3312fe14-bcb3-48d5-eca0-723c0863b86b",
    "tags": []
   },
   "outputs": [
    {
     "data": {
      "text/plain": [
       "{'path': None,\n",
       " 'array': array([ 0.00079346, -0.00076294,  0.00067139, ...,  0.00933838,\n",
       "         0.00872803,  0.00534058]),\n",
       " 'sampling_rate': 16000}"
      ]
     },
     "execution_count": 34,
     "metadata": {},
     "output_type": "execute_result"
    }
   ],
   "source": [
    "common_voice_train[0][\"audio\"]"
   ]
  },
  {
   "cell_type": "markdown",
   "metadata": {
    "id": "WUUTgI1bGHW-"
   },
   "source": [
    "Great, we can see that the audio file has automatically been loaded. This is thanks to the new [`\"Audio\"` feature](https://huggingface.co/docs/datasets/package_reference/main_classes.html?highlight=audio#datasets.Audio) introduced in `datasets == 4.13.3`, which loads and resamples audio files on-the-fly upon calling.\n",
    "\n",
    "In the example above we can see that the audio data is loaded with a sampling rate of 48kHz whereas 16kHz are expected by the model. We can set the audio feature to the correct sampling rate by making use of [`cast_column`](https://huggingface.co/docs/datasets/package_reference/main_classes.html?highlight=cast_column#datasets.DatasetDict.cast_column):"
   ]
  },
  {
   "cell_type": "code",
   "execution_count": null,
   "metadata": {
    "id": "rrv65aj7G95i"
   },
   "outputs": [],
   "source": [
    "# common_voice_train = common_voice_train.cast_column(\"audio\", Audio(sampling_rate=16_000))\n",
    "# common_voice_test = common_voice_test.cast_column(\"audio\", Audio(sampling_rate=16_000))\n",
    "\n",
    "# from datasets import Audio\n",
    "\n",
    "# common_voice_train = common_voice_train.cast_column(\"audio\", Audio(sampling_rate=16_000))\n",
    "# common_voice_test = common_voice_test.cast_column(\"audio\", Audio(sampling_rate=16_000))"
   ]
  },
  {
   "cell_type": "markdown",
   "metadata": {
    "id": "PcnO4x-NGBEi"
   },
   "source": [
    "Let's take a look at `\"audio\"` again."
   ]
  },
  {
   "cell_type": "code",
   "execution_count": null,
   "metadata": {
    "colab": {
     "base_uri": "https://localhost:8080/"
    },
    "id": "aKtkc1o_HWHC",
    "outputId": "9f25301d-76ba-4e86-b0fc-acc06758899d"
   },
   "outputs": [],
   "source": [
    "common_voice_train[0][\"audio\"]"
   ]
  },
  {
   "cell_type": "markdown",
   "metadata": {
    "id": "SOckzFd4Mbzq"
   },
   "source": [
    "This seemed to have worked! Let's listen to a couple of audio files to better understand the dataset and verify that the audio was correctly loaded.\n",
    "\n",
    "**Note**: *You can click the following cell a couple of times to listen to different speech samples.*"
   ]
  },
  {
   "cell_type": "code",
   "execution_count": 35,
   "metadata": {
    "colab": {
     "base_uri": "https://localhost:8080/",
     "height": 80
    },
    "id": "dueM6U7Ev0OA",
    "outputId": "c3f72d5e-3f6c-4703-e840-64ac4009b66a",
    "tags": []
   },
   "outputs": [
    {
     "name": "stdout",
     "output_type": "stream",
     "text": [
      "golf\n"
     ]
    },
    {
     "data": {
      "text/html": [
       "\n",
       "                <audio  controls=\"controls\" autoplay=\"autoplay\">\n",
       "                    <source src=\"data:audio/wav;base64,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\" type=\"audio/wav\" />\n",
       "                    Your browser does not support the audio element.\n",
       "                </audio>\n",
       "              "
      ],
      "text/plain": [
       "<IPython.lib.display.Audio object>"
      ]
     },
     "execution_count": 35,
     "metadata": {},
     "output_type": "execute_result"
    }
   ],
   "source": [
    "import random\n",
    "\n",
    "import IPython.display as ipd\n",
    "import numpy as np\n",
    "\n",
    "rand_int = random.randint(0, len(common_voice_train) - 1)\n",
    "\n",
    "print(common_voice_train[rand_int][\"transcription\"])\n",
    "ipd.Audio(data=common_voice_train[rand_int][\"audio\"][\"array\"], autoplay=True, rate=16000)"
   ]
  },
  {
   "cell_type": "markdown",
   "metadata": {
    "id": "gY8m3vARHYTa"
   },
   "source": [
    "It seems like the data is now correctly loaded and resampled."
   ]
  },
  {
   "cell_type": "markdown",
   "metadata": {
    "id": "1MaL9J2dNVtG"
   },
   "source": [
    "It can be heard, that the speakers change along with their speaking rate, accent, and background environment, etc. Overall, the recordings sound acceptably clear though, which is to be expected from a crowd-sourced read speech corpus.\n",
    "\n",
    "Let's do a final check that the data is correctly prepared, by printing the shape of the speech input, its transcription, and the corresponding sampling rate.\n",
    "\n",
    "**Note**: *You can click the following cell a couple of times to verify multiple samples.*"
   ]
  },
  {
   "cell_type": "code",
   "execution_count": 36,
   "metadata": {
    "colab": {
     "base_uri": "https://localhost:8080/"
    },
    "id": "1Po2g7YPuRTx",
    "outputId": "dbc964ea-afe5-49d7-dcce-4873412046b1",
    "tags": []
   },
   "outputs": [
    {
     "name": "stdout",
     "output_type": "stream",
     "text": [
      "Target text: the train approached the depot slowly\n",
      "Input array shape: [-0.00024414 -0.00064087  0.00265503 ...  0.00015259 -0.00305176\n",
      "  0.00958252]\n",
      "Sampling rate: 16000\n"
     ]
    }
   ],
   "source": [
    "rand_int = random.randint(0, len(common_voice_train) - 1)\n",
    "\n",
    "print(\"Target text:\", common_voice_train[rand_int][\"transcription\"])\n",
    "print(\"Input array shape:\", common_voice_train[rand_int][\"audio\"][\"array\"])  # .shape)\n",
    "print(\"Sampling rate:\", common_voice_train[rand_int][\"audio\"][\"sampling_rate\"])"
   ]
  },
  {
   "cell_type": "markdown",
   "metadata": {
    "id": "M9teZcSwOBJ4"
   },
   "source": [
    "Good! Everything looks fine - the data is a 1-dimensional array, the sampling rate always corresponds to 16kHz, and the target text is normalized."
   ]
  },
  {
   "cell_type": "markdown",
   "metadata": {
    "id": "k3Pbn5WvOYZF"
   },
   "source": [
    "Finally, we can leverage `Wav2Vec2Processor` to process the data to the format expected by `Wav2Vec2ForCTC` for training. To do so let's make use of Dataset's [`map(...)`](https://huggingface.co/docs/datasets/package_reference/main_classes.html?highlight=map#datasets.DatasetDict.map) function.\n",
    "\n",
    "First, we load and resample the audio data, simply by calling `batch[\"audio\"]`.\n",
    "Second, we extract the `input_values` from the loaded audio file. In our case, the `Wav2Vec2Processor` only normalizes the data. For other speech models, however, this step can include more complex feature extraction, such as [Log-Mel feature extraction](https://en.wikipedia.org/wiki/Mel-frequency_cepstrum).\n",
    "Third, we encode the transcriptions to label ids.\n",
    "\n",
    "**Note**: This mapping function is a good example of how the `Wav2Vec2Processor` class should be used. In \"normal\" context, calling `processor(...)` is redirected to `Wav2Vec2FeatureExtractor`'s call method. When wrapping the processor into the `as_target_processor` context, however, the same method is redirected to `Wav2Vec2CTCTokenizer`'s call method.\n",
    "For more information please check the [docs](https://huggingface.co/transformers/master/model_doc/wav2vec2.html#transformers.Wav2Vec2Processor.__call__)."
   ]
  },
  {
   "cell_type": "code",
   "execution_count": 37,
   "metadata": {
    "id": "eJY7I0XAwe9p",
    "tags": []
   },
   "outputs": [],
   "source": [
    "def prepare_dataset(batch):\n",
    "    audio = batch[\"audio\"]\n",
    "\n",
    "    # batched output is \"un-batched\"\n",
    "    batch[\"input_values\"] = processor(\n",
    "        audio[\"array\"], sampling_rate=audio[\"sampling_rate\"]\n",
    "    ).input_values[0]\n",
    "    batch[\"input_length\"] = len(batch[\"input_values\"])\n",
    "\n",
    "    with processor.as_target_processor():\n",
    "        batch[\"labels\"] = processor(batch[\"transcription\"]).input_ids\n",
    "    return batch"
   ]
  },
  {
   "cell_type": "markdown",
   "metadata": {
    "id": "q6Pg_WR3OGAP"
   },
   "source": [
    "Let's apply the data preparation function to all examples."
   ]
  },
  {
   "cell_type": "code",
   "execution_count": 38,
   "metadata": {
    "colab": {
     "base_uri": "https://localhost:8080/",
     "height": 138,
     "referenced_widgets": [
      "5e62d1001ec24c58953fdc7745158d0f",
      "693ca38f0f424b1d86d204d33edb75a4",
      "31a5e1b2bc6445a98e17a1a8a272f829",
      "912776653b4c43c0be79b6acf38f6c27",
      "f6bc7614de9d4eefb6cbf813c6082330",
      "1a367b9a8cf048d3ac3b39b62e72fc25",
      "ff328afaf575441c9786596a6e5c1d3e",
      "360b17788282485792884acac7f39a1d",
      "179ff20203cd46d0923fd5bccacd5b60",
      "c7b0ccc72dc745b3a3ade7ca783ffd8b",
      "6959f7fba2464e7687ab251252ef29de",
      "ed207b4a9c9942cfb94e042264a00c59",
      "7e6c2b5f288f4891b3f8c9afb5a17916",
      "8244da5987494c3abfbabdf43c5de63e",
      "9a3d2c405ace485296df5a069028e0df",
      "c3983d35e20a4f4ebaeebfde59324e15",
      "a719f49c00d943028df290cc77d73c28",
      "36a4a4430cb04dc18de80bd8bd32df37",
      "62d8da282a6645ceb7178f134bc70d11",
      "58e086351a6f4de583d46be71230b14b",
      "7eeb778be4b246baa25a00a1ae16e859",
      "c333a63a98f046f8ab172b45babf0c94"
     ]
    },
    "id": "-np9xYK-wl8q",
    "outputId": "813daa59-35e3-4907-eac1-1b615db0cad4",
    "tags": []
   },
   "outputs": [
    {
     "data": {
      "application/vnd.jupyter.widget-view+json": {
       "model_id": "aac72eca04d24def802a3cfdf2641cbd",
       "version_major": 2,
       "version_minor": 0
      },
      "text/plain": [
       "Map:   0%|          | 0/2203 [00:00<?, ? examples/s]"
      ]
     },
     "metadata": {},
     "output_type": "display_data"
    },
    {
     "name": "stderr",
     "output_type": "stream",
     "text": [
      "/root/miniconda3/lib/python3.8/site-packages/transformers/models/wav2vec2/processing_wav2vec2.py:157: UserWarning: `as_target_processor` is deprecated and will be removed in v5 of Transformers. You can process your labels by using the argument `text` of the regular `__call__` method (either in the same call as your audio inputs, or in a separate call.\n",
      "  warnings.warn(\n"
     ]
    },
    {
     "data": {
      "application/vnd.jupyter.widget-view+json": {
       "model_id": "c66e49c3333c4c7da23f23026256c1fb",
       "version_major": 2,
       "version_minor": 0
      },
      "text/plain": [
       "Map:   0%|          | 0/551 [00:00<?, ? examples/s]"
      ]
     },
     "metadata": {},
     "output_type": "display_data"
    }
   ],
   "source": [
    "common_voice_train = common_voice_train.map(\n",
    "    prepare_dataset, remove_columns=common_voice_train.column_names\n",
    ")\n",
    "common_voice_test = common_voice_test.map(\n",
    "    prepare_dataset, remove_columns=common_voice_test.column_names\n",
    ")"
   ]
  },
  {
   "cell_type": "markdown",
   "metadata": {
    "id": "nKcEWHvKI1by"
   },
   "source": [
    "**Note**: Currently `datasets` make use of [`torchaudio`](https://pytorch.org/audio/stable/index.html) and [`librosa`](https://librosa.org/doc/latest/index.html) for audio loading and resampling. If you wish to implement your own costumized data loading/sampling, feel free to just make use of the `\"path\"` column instead and disregard the `\"audio\"` column."
   ]
  },
  {
   "cell_type": "markdown",
   "metadata": {
    "id": "24CxHd5ewI4T"
   },
   "source": [
    "Long input sequences require a lot of memory. XLS-R is based on `self-attention` the memory requirement scales quadratically with the input length for long input sequences (*cf.* with [this](https://www.reddit.com/r/MachineLearning/comments/genjvb/d_why_is_the_maximum_input_sequence_length_of/) reddit post). In case this demo crashes with an \"Out-of-memory\" error for you, you might want to uncomment the following lines to filter all sequences that are longer than 5 seconds for training."
   ]
  },
  {
   "cell_type": "code",
   "execution_count": null,
   "metadata": {
    "id": "tdHfbUJ_09iA"
   },
   "outputs": [],
   "source": [
    "# max_input_length_in_sec = 5.0\n",
    "# common_voice_train = common_voice_train.filter(lambda x: x < max_input_length_in_sec * processor.feature_extractor.sampling_rate, input_columns=[\"input_length\"])"
   ]
  },
  {
   "cell_type": "markdown",
   "metadata": {
    "id": "1ZWDCCKqwcfS"
   },
   "source": [
    "Awesome, now we are ready to start training!"
   ]
  },
  {
   "cell_type": "markdown",
   "metadata": {
    "id": "gYlQkKVoRUos"
   },
   "source": [
    "## Training\n",
    "\n",
    "The data is processed so that we are ready to start setting up the training pipeline. We will make use of 🤗's [Trainer](https://huggingface.co/transformers/master/main_classes/trainer.html?highlight=trainer) for which we essentially need to do the following:\n",
    "\n",
    "- Define a data collator. In contrast to most NLP models, XLS-R has a much larger input length than output length. *E.g.*, a sample of input length 50000 has an output length of no more than 100. Given the large input sizes, it is much more efficient to pad the training batches dynamically meaning that all training samples should only be padded to the longest sample in their batch and not the overall longest sample. Therefore, fine-tuning XLS-R requires a special padding data collator, which we will define below\n",
    "\n",
    "- Evaluation metric. During training, the model should be evaluated on the word error rate. We should define a `compute_metrics` function accordingly\n",
    "\n",
    "- Load a pretrained checkpoint. We need to load a pretrained checkpoint and configure it correctly for training.\n",
    "\n",
    "- Define the training configuration.\n",
    "\n",
    "After having fine-tuned the model, we will correctly evaluate it on the test data and verify that it has indeed learned to correctly transcribe speech."
   ]
  },
  {
   "cell_type": "markdown",
   "metadata": {
    "id": "Slk403unUS91"
   },
   "source": [
    "### Set-up Trainer\n",
    "\n",
    "Let's start by defining the data collator. The code for the data collator was copied from [this example](https://github.com/huggingface/transformers/blob/7e61d56a45c19284cfda0cee8995fb552f6b1f4e/examples/pytorch/speech-recognition/run_speech_recognition_ctc.py#L219).\n",
    "\n",
    "Without going into too many details, in contrast to the common data collators, this data collator treats the `input_values` and `labels` differently and thus applies to separate padding functions on them (again making use of XLS-R processor's context manager). This is necessary because in speech input and output are of different modalities meaning that they should not be treated by the same padding function.\n",
    "Analogous to the common data collators, the padding tokens in the labels with `-100` so that those tokens are **not** taken into account when computing the loss."
   ]
  },
  {
   "cell_type": "code",
   "execution_count": 39,
   "metadata": {
    "id": "tborvC9hx88e",
    "tags": []
   },
   "outputs": [],
   "source": [
    "from dataclasses import dataclass, field\n",
    "from typing import Any, Dict, List, Optional, Union\n",
    "\n",
    "import torch\n",
    "\n",
    "\n",
    "@dataclass\n",
    "class DataCollatorCTCWithPadding:\n",
    "    \"\"\"\n",
    "    Data collator that will dynamically pad the inputs received.\n",
    "    Args:\n",
    "        processor (:class:`~transformers.Wav2Vec2Processor`)\n",
    "            The processor used for proccessing the data.\n",
    "        padding (:obj:`bool`, :obj:`str` or :class:`~transformers.tokenization_utils_base.PaddingStrategy`, `optional`, defaults to :obj:`True`):\n",
    "            Select a strategy to pad the returned sequences (according to the model's padding side and padding index)\n",
    "            among:\n",
    "            * :obj:`True` or :obj:`'longest'`: Pad to the longest sequence in the batch (or no padding if only a single\n",
    "              sequence if provided).\n",
    "            * :obj:`'max_length'`: Pad to a maximum length specified with the argument :obj:`max_length` or to the\n",
    "              maximum acceptable input length for the model if that argument is not provided.\n",
    "            * :obj:`False` or :obj:`'do_not_pad'` (default): No padding (i.e., can output a batch with sequences of\n",
    "              different lengths).\n",
    "    \"\"\"\n",
    "\n",
    "    processor: Wav2Vec2Processor\n",
    "    padding: Union[bool, str] = True\n",
    "\n",
    "    def __call__(\n",
    "        self, features: List[Dict[str, Union[List[int], torch.Tensor]]]\n",
    "    ) -> Dict[str, torch.Tensor]:\n",
    "        # split inputs and labels since they have to be of different lenghts and need\n",
    "        # different padding methods\n",
    "        input_features = [{\"input_values\": feature[\"input_values\"]} for feature in features]\n",
    "        label_features = [{\"input_ids\": feature[\"labels\"]} for feature in features]\n",
    "\n",
    "        batch = self.processor.pad(\n",
    "            input_features,\n",
    "            padding=self.padding,\n",
    "            return_tensors=\"pt\",\n",
    "        )\n",
    "        with self.processor.as_target_processor():\n",
    "            labels_batch = self.processor.pad(\n",
    "                label_features,\n",
    "                padding=self.padding,\n",
    "                return_tensors=\"pt\",\n",
    "            )\n",
    "\n",
    "        # replace padding with -100 to ignore loss correctly\n",
    "        labels = labels_batch[\"input_ids\"].masked_fill(labels_batch.attention_mask.ne(1), -100)\n",
    "\n",
    "        batch[\"labels\"] = labels\n",
    "\n",
    "        return batch"
   ]
  },
  {
   "cell_type": "code",
   "execution_count": 40,
   "metadata": {
    "id": "lbQf5GuZyQ4_",
    "tags": []
   },
   "outputs": [],
   "source": [
    "data_collator = DataCollatorCTCWithPadding(processor=processor, padding=True)"
   ]
  },
  {
   "cell_type": "markdown",
   "metadata": {
    "id": "xO-Zdj-5cxXp"
   },
   "source": [
    "Next, the evaluation metric is defined. As mentioned earlier, the\n",
    "predominant metric in ASR is the word error rate (WER), hence we will use it in this notebook as well."
   ]
  },
  {
   "cell_type": "code",
   "execution_count": 41,
   "metadata": {
    "colab": {
     "base_uri": "https://localhost:8080/",
     "height": 180,
     "referenced_widgets": [
      "30900042f0e54d739dfb6a2482ea2f4d",
      "028a7812d0554189bc9bea7f8e5508ec",
      "fb6991d1728747a3a8af407be3baa771",
      "c7b8ec474805477ba3f2c91896f8e104",
      "e78aa460bfcf488b85ac63be29cae346",
      "ba2927af84104863a1776675aaad0aa1",
      "d004186078644da7ae1a96bd7665da01",
      "b45daecba2764f5180dc0e52a682a2b2",
      "11ca84f8e50143d4b25cb2e686fafe73",
      "a3a217d301ef4bacb3bca719be5ef734",
      "8dcbfac0422d4e8492cd94d6693714f4"
     ]
    },
    "id": "9Xsux2gmyXso",
    "outputId": "940dbb25-822a-4768-ad01-8a456e6a154b",
    "tags": []
   },
   "outputs": [
    {
     "name": "stderr",
     "output_type": "stream",
     "text": [
      "/tmp/ipykernel_834/24688115.py:1: FutureWarning: load_metric is deprecated and will be removed in the next major version of datasets. Use 'evaluate.load' instead, from the new library 🤗 Evaluate: https://huggingface.co/docs/evaluate\n",
      "  wer_metric = load_metric(\"wer\")\n"
     ]
    }
   ],
   "source": [
    "wer_metric = load_metric(\"wer\")"
   ]
  },
  {
   "cell_type": "markdown",
   "metadata": {
    "id": "E1qZU5p-deqB"
   },
   "source": [
    "The model will return a sequence of logit vectors:\n",
    "$\\mathbf{y}_1, \\ldots, \\mathbf{y}_m$ with $\\mathbf{y}_1 = f_{\\theta}(x_1, \\ldots, x_n)[0]$ and $n >> m$.\n",
    "\n",
    "A logit vector $\\mathbf{y}_1$ contains the log-odds for each word in the vocabulary we defined earlier, thus $\\text{len}(\\mathbf{y}_i) =$ `config.vocab_size`. We are interested in the most likely prediction of the model and thus take the `argmax(...)` of the logits. Also, we transform the encoded labels back to the original string by replacing `-100` with the `pad_token_id` and decoding the ids while making sure that consecutive tokens are **not** grouped to the same token in CTC style ${}^1$."
   ]
  },
  {
   "cell_type": "code",
   "execution_count": 42,
   "metadata": {
    "id": "1XZ-kjweyTy_",
    "tags": []
   },
   "outputs": [],
   "source": [
    "def compute_metrics(pred):\n",
    "    pred_logits = pred.predictions\n",
    "    pred_ids = np.argmax(pred_logits, axis=-1)\n",
    "\n",
    "    pred.label_ids[pred.label_ids == -100] = processor.tokenizer.pad_token_id\n",
    "\n",
    "    pred_str = processor.batch_decode(pred_ids)\n",
    "    # we do not want to group tokens when computing the metrics\n",
    "    label_str = processor.batch_decode(pred.label_ids, group_tokens=False)\n",
    "\n",
    "    wer = wer_metric.compute(predictions=pred_str, references=label_str)\n",
    "\n",
    "    return {\"wer\": wer}"
   ]
  },
  {
   "cell_type": "markdown",
   "metadata": {
    "id": "Xmgrx4bRwLIH"
   },
   "source": [
    "Now, we can load the pretrained checkpoint of [Wav2Vec2-XLS-R-300M](https://huggingface.co/facebook/wav2vec2-xls-r-300m). The tokenizer's `pad_token_id` must be to define the model's `pad_token_id` or in the case of `Wav2Vec2ForCTC` also CTC's *blank token* ${}^2$. To save GPU memory, we enable PyTorch's [gradient checkpointing](https://pytorch.org/docs/stable/checkpoint.html) and also set the loss reduction to \"*mean*\".\n",
    "\n",
    "Because the dataset is quite small (~6h of training data) and because Common Voice is quite noisy, fine-tuning Facebook's [wav2vec2-xls-r-300m checkpoint](https://huggingface.co/facebook/wav2vec2-xls-r-300m) seems to require some hyper-parameter tuning. Therefore, I had to play around a bit with different values for dropout, [SpecAugment](https://arxiv.org/abs/1904.08779)'s masking dropout rate, layer dropout, and the learning rate until training seemed to be stable enough.\n",
    "\n",
    "**Note**: When using this notebook to train XLS-R on another language of Common Voice those hyper-parameter settings might not work very well. Feel free to adapt those depending on your use case."
   ]
  },
  {
   "cell_type": "code",
   "execution_count": 43,
   "metadata": {
    "colab": {
     "base_uri": "https://localhost:8080/",
     "height": 138,
     "referenced_widgets": [
      "cd3fa278f52d4e758933cf9338179bb6",
      "683f9aab199c4d81a02fc43170e9bf92",
      "1de04901846b4eaf922804764db284ea",
      "c51891eb247842878b888a4367b76f09",
      "0c1af8de82dd41308b0dd459b2704094",
      "ac73e06b68f4448ab902130d51a227a5",
      "3f73859b6eda46eb9ffab85143d529ea",
      "f2abcc26955445f7834d3869298c93a4",
      "f7b89b9d407b4bd8b975d63903775728",
      "dec7a66671e34d20a5a0c14283a7eaca",
      "cd6858e22042455cbc51d85f5bc025b8",
      "feaebee202a24d4c93811950d93b8659",
      "b845af41e4c04add86507a75e169aa41",
      "99cd519632d74800b7fe4fcaa6b69879",
      "d6d0facf1fe14ad8a644135ffa3282b8",
      "5a6c5ee62a83478d88be604ec2d31ceb",
      "22f632b6b1114e458739bc54c509c555",
      "8d00d38c4bf94d27bb4f7126f4180cff",
      "837fe93445684f19811bda3fd52f9971",
      "f2735489677542d7a9c552d4676423b0",
      "cc147b7ce4c944489f91dfeff79609a9",
      "4a666ab8126348ada5f1fe3f9f6c46d7"
     ]
    },
    "id": "e7cqAWIayn6w",
    "outputId": "6351d721-9201-4476-e5e5-ebbf48c9a78b",
    "tags": []
   },
   "outputs": [
    {
     "name": "stderr",
     "output_type": "stream",
     "text": [
      "/root/miniconda3/lib/python3.8/site-packages/torch/_utils.py:776: UserWarning: TypedStorage is deprecated. It will be removed in the future and UntypedStorage will be the only storage class. This should only matter to you if you are using storages directly.  To access UntypedStorage directly, use tensor.untyped_storage() instead of tensor.storage()\n",
      "  return self.fget.__get__(instance, owner)()\n",
      "Some weights of Wav2Vec2ForCTC were not initialized from the model checkpoint at /root/autodl-tmp/wav2vec2-xls-r-300m and are newly initialized: ['lm_head.bias', 'lm_head.weight']\n",
      "You should probably TRAIN this model on a down-stream task to be able to use it for predictions and inference.\n"
     ]
    }
   ],
   "source": [
    "from transformers import Wav2Vec2ForCTC\n",
    "\n",
    "model = Wav2Vec2ForCTC.from_pretrained(\n",
    "    \"/root/autodl-tmp/wav2vec2-xls-r-300m\",\n",
    "    attention_dropout=0.0,\n",
    "    hidden_dropout=0.0,\n",
    "    feat_proj_dropout=0.0,\n",
    "    mask_time_prob=0.05,\n",
    "    layerdrop=0.0,\n",
    "    ctc_loss_reduction=\"mean\",\n",
    "    pad_token_id=processor.tokenizer.pad_token_id,\n",
    "    vocab_size=len(processor.tokenizer),\n",
    ")"
   ]
  },
  {
   "cell_type": "markdown",
   "metadata": {
    "id": "1DwR3XLSzGDD"
   },
   "source": [
    "The first component of XLS-R consists of a stack of CNN layers that are used to extract acoustically meaningful - but contextually independent - features from the raw speech signal. This part of the model has already been sufficiently trained during pretraining and as stated in the [paper](https://arxiv.org/pdf/2006.13979.pdf) does not need to be fine-tuned anymore.\n",
    "Thus, we can set the `requires_grad` to `False` for all parameters of the *feature extraction* part."
   ]
  },
  {
   "cell_type": "code",
   "execution_count": 44,
   "metadata": {
    "colab": {
     "base_uri": "https://localhost:8080/"
    },
    "id": "oGI8zObtZ3V0",
    "outputId": "a8393a31-e606-4eda-952f-3987ac000941",
    "tags": []
   },
   "outputs": [
    {
     "name": "stderr",
     "output_type": "stream",
     "text": [
      "/root/miniconda3/lib/python3.8/site-packages/transformers/models/wav2vec2/modeling_wav2vec2.py:2284: FutureWarning: The method `freeze_feature_extractor` is deprecated and will be removed in Transformers v5. Please use the equivalent `freeze_feature_encoder` method instead.\n",
      "  warnings.warn(\n"
     ]
    }
   ],
   "source": [
    "model.freeze_feature_extractor()"
   ]
  },
  {
   "cell_type": "markdown",
   "metadata": {
    "id": "lD4aGhQM0K-D"
   },
   "source": [
    "In a final step, we define all parameters related to training.\n",
    "To give more explanation on some of the parameters:\n",
    "- `group_by_length` makes training more efficient by grouping training samples of similar input length into one batch. This can significantly speed up training time by heavily reducing the overall number of useless padding tokens that are passed through the model\n",
    "- `learning_rate` and `weight_decay` were heuristically tuned until fine-tuning has become stable. Note that those parameters strongly depend on the Common Voice dataset and might be suboptimal for other speech datasets.\n",
    "\n",
    "For more explanations on other parameters, one can take a look at the [docs](https://huggingface.co/transformers/master/main_classes/trainer.html?highlight=trainer#trainingarguments).\n",
    "\n",
    "During training, a checkpoint will be uploaded asynchronously to the hub every 400 training steps. It allows you to also play around with the demo widget even while your model is still training.\n",
    "\n",
    "**Note**: If one does not want to upload the model checkpoints to the hub, simply set `push_to_hub=False`."
   ]
  },
  {
   "cell_type": "code",
   "execution_count": 59,
   "metadata": {
    "id": "KbeKSV7uzGPP",
    "tags": []
   },
   "outputs": [
    {
     "name": "stderr",
     "output_type": "stream",
     "text": [
      "/root/miniconda3/lib/python3.8/site-packages/transformers/training_args.py:1494: FutureWarning: `evaluation_strategy` is deprecated and will be removed in version 4.46 of 🤗 Transformers. Use `eval_strategy` instead\n",
      "  warnings.warn(\n",
      "/root/miniconda3/lib/python3.8/site-packages/transformers/optimization.py:591: FutureWarning: This implementation of AdamW is deprecated and will be removed in a future version. Use the PyTorch implementation torch.optim.AdamW instead, or set `no_deprecation_warning=True` to disable this warning\n",
      "  warnings.warn(\n"
     ]
    }
   ],
   "source": [
    "# from transformers import TrainingArguments\n",
    "\n",
    "# training_args = TrainingArguments(\n",
    "#     output_dir='/root/autodl-tmp/test',\n",
    "#     group_by_length=True,\n",
    "#     per_device_train_batch_size=8,\n",
    "#     gradient_accumulation_steps=2,\n",
    "#     evaluation_strategy=\"steps\",\n",
    "#     num_train_epochs=30,\n",
    "#     gradient_checkpointing=True,\n",
    "#     fp16=True,\n",
    "#     save_steps=400,\n",
    "#     eval_steps=400,\n",
    "#     logging_steps=400,\n",
    "#     learning_rate=3e-4,\n",
    "#     warmup_steps=500,\n",
    "#     save_total_limit=2,\n",
    "# )\n",
    "from transformers import TrainingArguments, AdamW, get_linear_schedule_with_warmup, Trainer\n",
    "\n",
    "# 假设你已经定义了 `model`, `data_collator`, `compute_metrics`, `common_voice_train`, `common_voice_test` 和 `processor`\n",
    "train_dataset = common_voice_train\n",
    "eval_dataset = common_voice_test\n",
    "\n",
    "# 设置训练参数\n",
    "training_args = TrainingArguments(\n",
    "    output_dir='/root/autodl-tmp/test',\n",
    "    group_by_length=True,\n",
    "    per_device_train_batch_size=8,                 # 训练批量大小\n",
    "    evaluation_strategy=\"steps\",                   # 评估策略为步数\n",
    "    num_train_epochs=50,                           # 训练轮数\n",
    "    gradient_checkpointing=True,                   # 启用梯度检查点\n",
    "    fp16=True,                                     # 使用混合精度训练\n",
    "    save_steps=400,                                # 保存步数\n",
    "    eval_steps=400,                                # 评估步数\n",
    "    logging_steps=400,                             # 日志记录步数\n",
    "    learning_rate=3e-4,                            # 学习率\n",
    "    warmup_steps=500,                              # 预热步数\n",
    "    save_total_limit=2,                            # 保存总数限制\n",
    "    seed=42,                                       # 随机种子\n",
    "    gradient_accumulation_steps=2,                 # 梯度累积步数\n",
    "    optim=\"adamw_torch\",                           # 优化器 AdamW\n",
    "    lr_scheduler_type=\"linear\",                    # 学习率调度类型\n",
    ")\n",
    "\n",
    "# 计算总训练步数\n",
    "total_train_steps = (len(train_dataset) // training_args.per_device_train_batch_size // training_args.gradient_accumulation_steps) * training_args.num_train_epochs\n",
    "\n",
    "# 设置优化器\n",
    "optimizer = AdamW(\n",
    "    model.parameters(),\n",
    "    lr=3e-4, \n",
    "    betas=(0.9, 0.999),\n",
    "    eps=1e-08\n",
    ")\n",
    "\n",
    "# 设置学习率调度器\n",
    "lr_scheduler = get_linear_schedule_with_warmup(\n",
    "    optimizer,\n",
    "    num_warmup_steps=training_args.warmup_steps,\n",
    "    num_training_steps=total_train_steps\n",
    ")\n",
    "\n",
    "# 使用 Trainer 并传递优化器和学习率调度器\n",
    "trainer = Trainer(\n",
    "    model=model,\n",
    "    data_collator=data_collator,\n",
    "    args=training_args,\n",
    "    compute_metrics=compute_metrics,\n",
    "    train_dataset=train_dataset,\n",
    "    eval_dataset=eval_dataset,\n",
    "    tokenizer=processor.feature_extractor,\n",
    "    optimizers=(optimizer, lr_scheduler)  # 传递优化器和学习率调度器\n",
    ")\n"
   ]
  },
  {
   "cell_type": "markdown",
   "metadata": {
    "id": "OsW-WZcL1ZtN"
   },
   "source": [
    "Now, all instances can be passed to Trainer and we are ready to start training!"
   ]
  },
  {
   "cell_type": "code",
   "execution_count": 51,
   "metadata": {
    "id": "rY7vBmFCPFgC",
    "tags": []
   },
   "outputs": [],
   "source": [
    "from transformers import Trainer\n",
    "\n",
    "# trainer = Trainer(\n",
    "#     model=model,\n",
    "#     data_collator=data_collator,\n",
    "#     args=training_args,\n",
    "#     compute_metrics=compute_metrics,\n",
    "#     train_dataset=common_voice_train,\n",
    "#     eval_dataset=common_voice_test,\n",
    "#     tokenizer=processor.feature_extractor,\n",
    "# )\n"
   ]
  },
  {
   "cell_type": "markdown",
   "metadata": {
    "id": "UoXBx1JAA0DX"
   },
   "source": [
    "\n",
    "\n",
    "---\n",
    "\n",
    "${}^1$ To allow models to become independent of the speaker rate, in CTC, consecutive tokens that are identical are simply grouped as a single token. However, the encoded labels should not be grouped when decoding since they don't correspond to the predicted tokens of the model, which is why the `group_tokens=False` parameter has to be passed. If we wouldn't pass this parameter a word like `\"hello\"` would incorrectly be encoded, and decoded as `\"helo\"`.\n",
    "\n",
    "${}^2$ The blank token allows the model to predict a word, such as `\"hello\"` by forcing it to insert the blank token between the two l's. A CTC-conform prediction of `\"hello\"` of our model would be `[PAD] [PAD] \"h\" \"e\" \"e\" \"l\" \"l\" [PAD] \"l\" \"o\" \"o\" [PAD]`."
   ]
  },
  {
   "cell_type": "markdown",
   "metadata": {
    "id": "rpvZHM1xReIW"
   },
   "source": [
    "### Training"
   ]
  },
  {
   "cell_type": "markdown",
   "metadata": {
    "id": "j-3oKSzZ1hGq"
   },
   "source": [
    "Training will take multiple hours depending on the GPU allocated to this notebook. While the trained model yields somewhat satisfying results on *Common Voice*'s test data of Turkish, it is by no means an optimally fine-tuned model. The purpose of this notebook is just to demonstrate how to fine-tune XLS-R on an ASR dataset.\n",
    "\n",
    "In case you want to use this google colab to fine-tune your model, you should make sure that your training doesn't stop due to inactivity. A simple hack to prevent this is to paste the following code into the console of this tab (*right mouse click -> inspect -> Console tab and insert code*)."
   ]
  },
  {
   "cell_type": "markdown",
   "metadata": {
    "id": "VYYAvgkW4P0m"
   },
   "source": [
    "```javascript\n",
    "function ConnectButton(){\n",
    "    console.log(\"Connect pushed\");\n",
    "    document.querySelector(\"#top-toolbar > colab-connect-button\").shadowRoot.querySelector(\"#connect\").click()\n",
    "}\n",
    "setInterval(ConnectButton,60000);\n",
    "```"
   ]
  },
  {
   "cell_type": "markdown",
   "metadata": {
    "id": "7bGgLV2r0yvZ"
   },
   "source": [
    "Depending on what GPU was allocated to your google colab it might be possible that you are seeing an `\"out-of-memory\"` error here. In this case, it's probably best to reduce `per_device_train_batch_size` to 8 or even less and increase [`gradient_accumulation`](https://huggingface.co/transformers/master/main_classes/trainer.html#trainingarguments)."
   ]
  },
  {
   "cell_type": "code",
   "execution_count": 60,
   "metadata": {
    "colab": {
     "base_uri": "https://localhost:8080/",
     "height": 1000
    },
    "id": "9fRr9TG5pGBl",
    "outputId": "6d175dfe-8d26-43de-8d06-f99c8abb6910",
    "tags": []
   },
   "outputs": [
    {
     "name": "stderr",
     "output_type": "stream",
     "text": [
      "/root/miniconda3/lib/python3.8/site-packages/transformers/models/wav2vec2/processing_wav2vec2.py:157: UserWarning: `as_target_processor` is deprecated and will be removed in v5 of Transformers. You can process your labels by using the argument `text` of the regular `__call__` method (either in the same call as your audio inputs, or in a separate call.\n",
      "  warnings.warn(\n"
     ]
    },
    {
     "data": {
      "text/html": [
       "\n",
       "    <div>\n",
       "      \n",
       "      <progress value='6900' max='6900' style='width:300px; height:20px; vertical-align: middle;'></progress>\n",
       "      [6900/6900 1:10:33, Epoch 50/50]\n",
       "    </div>\n",
       "    <table border=\"1\" class=\"dataframe\">\n",
       "  <thead>\n",
       " <tr style=\"text-align: left;\">\n",
       "      <th>Step</th>\n",
       "      <th>Training Loss</th>\n",
       "      <th>Validation Loss</th>\n",
       "      <th>Wer</th>\n",
       "    </tr>\n",
       "  </thead>\n",
       "  <tbody>\n",
       "    <tr>\n",
       "      <td>400</td>\n",
       "      <td>1.661500</td>\n",
       "      <td>2.321925</td>\n",
       "      <td>0.990086</td>\n",
       "    </tr>\n",
       "    <tr>\n",
       "      <td>800</td>\n",
       "      <td>1.811500</td>\n",
       "      <td>2.184078</td>\n",
       "      <td>0.990086</td>\n",
       "    </tr>\n",
       "    <tr>\n",
       "      <td>1200</td>\n",
       "      <td>1.610700</td>\n",
       "      <td>2.178255</td>\n",
       "      <td>0.971580</td>\n",
       "    </tr>\n",
       "    <tr>\n",
       "      <td>1600</td>\n",
       "      <td>1.454700</td>\n",
       "      <td>2.021726</td>\n",
       "      <td>0.972241</td>\n",
       "    </tr>\n",
       "    <tr>\n",
       "      <td>2000</td>\n",
       "      <td>1.262100</td>\n",
       "      <td>1.972941</td>\n",
       "      <td>0.970258</td>\n",
       "    </tr>\n",
       "    <tr>\n",
       "      <td>2400</td>\n",
       "      <td>1.143400</td>\n",
       "      <td>1.939360</td>\n",
       "      <td>0.962327</td>\n",
       "    </tr>\n",
       "    <tr>\n",
       "      <td>2800</td>\n",
       "      <td>0.991000</td>\n",
       "      <td>2.021240</td>\n",
       "      <td>0.966292</td>\n",
       "    </tr>\n",
       "    <tr>\n",
       "      <td>3200</td>\n",
       "      <td>0.877100</td>\n",
       "      <td>2.008530</td>\n",
       "      <td>0.967614</td>\n",
       "    </tr>\n",
       "    <tr>\n",
       "      <td>3600</td>\n",
       "      <td>0.788900</td>\n",
       "      <td>2.026807</td>\n",
       "      <td>0.941176</td>\n",
       "    </tr>\n",
       "    <tr>\n",
       "      <td>4000</td>\n",
       "      <td>0.649400</td>\n",
       "      <td>2.089820</td>\n",
       "      <td>0.937211</td>\n",
       "    </tr>\n",
       "    <tr>\n",
       "      <td>4400</td>\n",
       "      <td>0.558000</td>\n",
       "      <td>2.044604</td>\n",
       "      <td>0.941176</td>\n",
       "    </tr>\n",
       "    <tr>\n",
       "      <td>4800</td>\n",
       "      <td>0.472300</td>\n",
       "      <td>2.113695</td>\n",
       "      <td>0.946464</td>\n",
       "    </tr>\n",
       "    <tr>\n",
       "      <td>5200</td>\n",
       "      <td>0.374600</td>\n",
       "      <td>2.180997</td>\n",
       "      <td>0.937211</td>\n",
       "    </tr>\n",
       "    <tr>\n",
       "      <td>5600</td>\n",
       "      <td>0.305000</td>\n",
       "      <td>2.282215</td>\n",
       "      <td>1.031064</td>\n",
       "    </tr>\n",
       "    <tr>\n",
       "      <td>6000</td>\n",
       "      <td>0.254700</td>\n",
       "      <td>2.316900</td>\n",
       "      <td>0.937872</td>\n",
       "    </tr>\n",
       "    <tr>\n",
       "      <td>6400</td>\n",
       "      <td>0.211700</td>\n",
       "      <td>2.445894</td>\n",
       "      <td>0.986120</td>\n",
       "    </tr>\n",
       "    <tr>\n",
       "      <td>6800</td>\n",
       "      <td>0.185500</td>\n",
       "      <td>2.456828</td>\n",
       "      <td>0.996695</td>\n",
       "    </tr>\n",
       "  </tbody>\n",
       "</table><p>"
      ],
      "text/plain": [
       "<IPython.core.display.HTML object>"
      ]
     },
     "metadata": {},
     "output_type": "display_data"
    },
    {
     "name": "stderr",
     "output_type": "stream",
     "text": [
      "/root/miniconda3/lib/python3.8/site-packages/transformers/models/wav2vec2/processing_wav2vec2.py:157: UserWarning: `as_target_processor` is deprecated and will be removed in v5 of Transformers. You can process your labels by using the argument `text` of the regular `__call__` method (either in the same call as your audio inputs, or in a separate call.\n",
      "  warnings.warn(\n",
      "/root/miniconda3/lib/python3.8/site-packages/transformers/models/wav2vec2/processing_wav2vec2.py:157: UserWarning: `as_target_processor` is deprecated and will be removed in v5 of Transformers. You can process your labels by using the argument `text` of the regular `__call__` method (either in the same call as your audio inputs, or in a separate call.\n",
      "  warnings.warn(\n",
      "/root/miniconda3/lib/python3.8/site-packages/transformers/models/wav2vec2/processing_wav2vec2.py:157: UserWarning: `as_target_processor` is deprecated and will be removed in v5 of Transformers. You can process your labels by using the argument `text` of the regular `__call__` method (either in the same call as your audio inputs, or in a separate call.\n",
      "  warnings.warn(\n",
      "/root/miniconda3/lib/python3.8/site-packages/transformers/models/wav2vec2/processing_wav2vec2.py:157: UserWarning: `as_target_processor` is deprecated and will be removed in v5 of Transformers. You can process your labels by using the argument `text` of the regular `__call__` method (either in the same call as your audio inputs, or in a separate call.\n",
      "  warnings.warn(\n",
      "/root/miniconda3/lib/python3.8/site-packages/transformers/models/wav2vec2/processing_wav2vec2.py:157: UserWarning: `as_target_processor` is deprecated and will be removed in v5 of Transformers. You can process your labels by using the argument `text` of the regular `__call__` method (either in the same call as your audio inputs, or in a separate call.\n",
      "  warnings.warn(\n",
      "/root/miniconda3/lib/python3.8/site-packages/transformers/models/wav2vec2/processing_wav2vec2.py:157: UserWarning: `as_target_processor` is deprecated and will be removed in v5 of Transformers. You can process your labels by using the argument `text` of the regular `__call__` method (either in the same call as your audio inputs, or in a separate call.\n",
      "  warnings.warn(\n",
      "/root/miniconda3/lib/python3.8/site-packages/transformers/models/wav2vec2/processing_wav2vec2.py:157: UserWarning: `as_target_processor` is deprecated and will be removed in v5 of Transformers. You can process your labels by using the argument `text` of the regular `__call__` method (either in the same call as your audio inputs, or in a separate call.\n",
      "  warnings.warn(\n",
      "/root/miniconda3/lib/python3.8/site-packages/transformers/models/wav2vec2/processing_wav2vec2.py:157: UserWarning: `as_target_processor` is deprecated and will be removed in v5 of Transformers. You can process your labels by using the argument `text` of the regular `__call__` method (either in the same call as your audio inputs, or in a separate call.\n",
      "  warnings.warn(\n",
      "/root/miniconda3/lib/python3.8/site-packages/transformers/models/wav2vec2/processing_wav2vec2.py:157: UserWarning: `as_target_processor` is deprecated and will be removed in v5 of Transformers. You can process your labels by using the argument `text` of the regular `__call__` method (either in the same call as your audio inputs, or in a separate call.\n",
      "  warnings.warn(\n",
      "/root/miniconda3/lib/python3.8/site-packages/transformers/models/wav2vec2/processing_wav2vec2.py:157: UserWarning: `as_target_processor` is deprecated and will be removed in v5 of Transformers. You can process your labels by using the argument `text` of the regular `__call__` method (either in the same call as your audio inputs, or in a separate call.\n",
      "  warnings.warn(\n",
      "/root/miniconda3/lib/python3.8/site-packages/transformers/models/wav2vec2/processing_wav2vec2.py:157: UserWarning: `as_target_processor` is deprecated and will be removed in v5 of Transformers. You can process your labels by using the argument `text` of the regular `__call__` method (either in the same call as your audio inputs, or in a separate call.\n",
      "  warnings.warn(\n",
      "/root/miniconda3/lib/python3.8/site-packages/transformers/models/wav2vec2/processing_wav2vec2.py:157: UserWarning: `as_target_processor` is deprecated and will be removed in v5 of Transformers. You can process your labels by using the argument `text` of the regular `__call__` method (either in the same call as your audio inputs, or in a separate call.\n",
      "  warnings.warn(\n",
      "/root/miniconda3/lib/python3.8/site-packages/transformers/models/wav2vec2/processing_wav2vec2.py:157: UserWarning: `as_target_processor` is deprecated and will be removed in v5 of Transformers. You can process your labels by using the argument `text` of the regular `__call__` method (either in the same call as your audio inputs, or in a separate call.\n",
      "  warnings.warn(\n",
      "/root/miniconda3/lib/python3.8/site-packages/transformers/models/wav2vec2/processing_wav2vec2.py:157: UserWarning: `as_target_processor` is deprecated and will be removed in v5 of Transformers. You can process your labels by using the argument `text` of the regular `__call__` method (either in the same call as your audio inputs, or in a separate call.\n",
      "  warnings.warn(\n",
      "/root/miniconda3/lib/python3.8/site-packages/transformers/models/wav2vec2/processing_wav2vec2.py:157: UserWarning: `as_target_processor` is deprecated and will be removed in v5 of Transformers. You can process your labels by using the argument `text` of the regular `__call__` method (either in the same call as your audio inputs, or in a separate call.\n",
      "  warnings.warn(\n",
      "/root/miniconda3/lib/python3.8/site-packages/transformers/models/wav2vec2/processing_wav2vec2.py:157: UserWarning: `as_target_processor` is deprecated and will be removed in v5 of Transformers. You can process your labels by using the argument `text` of the regular `__call__` method (either in the same call as your audio inputs, or in a separate call.\n",
      "  warnings.warn(\n",
      "/root/miniconda3/lib/python3.8/site-packages/transformers/models/wav2vec2/processing_wav2vec2.py:157: UserWarning: `as_target_processor` is deprecated and will be removed in v5 of Transformers. You can process your labels by using the argument `text` of the regular `__call__` method (either in the same call as your audio inputs, or in a separate call.\n",
      "  warnings.warn(\n"
     ]
    },
    {
     "data": {
      "text/plain": [
       "TrainOutput(global_step=6900, training_loss=0.8495338605797809, metrics={'train_runtime': 4236.4427, 'train_samples_per_second': 26.001, 'train_steps_per_second': 1.629, 'total_flos': 1.1742818252384793e+19, 'train_loss': 0.8495338605797809, 'epoch': 50.0})"
      ]
     },
     "execution_count": 60,
     "metadata": {},
     "output_type": "execute_result"
    }
   ],
   "source": [
    "trainer.train()"
   ]
  },
  {
   "cell_type": "markdown",
   "metadata": {
    "id": "a9q4mgMZplr_"
   },
   "source": [
    "The training loss and validation WER go down nicely."
   ]
  },
  {
   "cell_type": "markdown",
   "metadata": {
    "id": "4Ya7WEy0pd13"
   },
   "source": [
    "You can now upload the result of the training to the 🤗 Hub, just execute this instruction:"
   ]
  },
  {
   "cell_type": "code",
   "execution_count": null,
   "metadata": {
    "colab": {
     "base_uri": "https://localhost:8080/",
     "height": 110,
     "referenced_widgets": [
      "562b0d339f3a4d40ac342010975e532d",
      "b003278635a940ea85e1620f958803b6",
      "1cf0f0ace4c248599b9f3b9a3e63767e"
     ]
    },
    "id": "ArG1Thf6NBWm",
    "outputId": "1fb728d7-cd7c-4080-ea50-8c8ff5f868dc"
   },
   "outputs": [],
   "source": [
    "trainer.push_to_hub()"
   ]
  },
  {
   "cell_type": "markdown",
   "metadata": {
    "id": "RHIVc44_fY2N"
   },
   "source": [
    "You can now share this model with all your friends, family, favorite pets: they can all load it with the identifier \"your-username/the-name-you-picked\" so for instance:"
   ]
  },
  {
   "cell_type": "markdown",
   "metadata": {
    "id": "5lWWIKyBpx1h"
   },
   "source": [
    "```python\n",
    "from transformers import AutoModelForCTC, Wav2Vec2Processor\n",
    "\n",
    "model = AutoModelForCTC.from_pretrained(\"patrickvonplaten/wav2vec2-large-xls-r-300m-tr-colab\")\n",
    "processor = Wav2Vec2Processor.from_pretrained(\"patrickvonplaten/wav2vec2-large-xls-r-300m-tr-colab\")\n",
    "```"
   ]
  },
  {
   "cell_type": "markdown",
   "metadata": {
    "id": "pmi1cX0fRBit"
   },
   "source": [
    "For more examples of how XLS-R can be fine-tuned, please take a look at the [official speech recognition examples](https://github.com/huggingface/transformers/tree/master/examples/pytorch/speech-recognition#examples)."
   ]
  },
  {
   "cell_type": "markdown",
   "metadata": {
    "id": "L8b8Qkoy3KyS"
   },
   "source": [
    "### Evaluation\n",
    "\n",
    "As a final check, let's load the model and verify that it indeed has learned to transcribe Turkish speech.\n",
    "\n",
    "Let's first load the pretrained checkpoint."
   ]
  },
  {
   "cell_type": "code",
   "execution_count": null,
   "metadata": {
    "colab": {
     "base_uri": "https://localhost:8080/"
    },
    "id": "R351I9IQp_9D",
    "outputId": "4558d822-818b-4023-a877-ba8c18792d57"
   },
   "outputs": [],
   "source": [
    "model = Wav2Vec2ForCTC.from_pretrained(repo_name).to(\"cuda\")\n",
    "processor = Wav2Vec2Processor.from_pretrained(repo_name)"
   ]
  },
  {
   "cell_type": "markdown",
   "metadata": {
    "id": "jD7TZ1YS3S_K"
   },
   "source": [
    "\n",
    "Now, we will just take the first example of the test set, run it through the model and take the `argmax(...)` of the logits to retrieve the predicted token ids."
   ]
  },
  {
   "cell_type": "code",
   "execution_count": null,
   "metadata": {
    "colab": {
     "base_uri": "https://localhost:8080/"
    },
    "id": "pax07TnL3WZn",
    "outputId": "fc6f99c6-3433-426a-84ac-a7e0bdceceb6"
   },
   "outputs": [],
   "source": [
    "input_dict = processor(common_voice_test[0][\"input_values\"], return_tensors=\"pt\", padding=True)\n",
    "\n",
    "logits = model(input_dict.input_values.to(\"cuda\")).logits\n",
    "\n",
    "pred_ids = torch.argmax(logits, dim=-1)[0]"
   ]
  },
  {
   "cell_type": "markdown",
   "metadata": {
    "id": "7nkzSQu53Zs2"
   },
   "source": [
    "We adapted `common_voice_test` quite a bit so that the dataset instance does not contain the original sentence label anymore. Thus, we re-use the original dataset to get the label of the first example."
   ]
  },
  {
   "cell_type": "code",
   "execution_count": null,
   "metadata": {
    "id": "fe2AE-2xqKHx"
   },
   "outputs": [],
   "source": [
    "# common_voice_test_transcription = load_dataset(\"common_voice\", \"tr\", data_dir=\"./cv-corpus-6.1-2020-12-11\", split=\"test\")\n",
    "\n",
    "df = load_parquet_directory(directory_path, use_narrow_data=True)\n",
    "dataset = convert_dataframe_to_dataset(df)\n",
    "\n",
    "common_voice_test_transcription = dataset.train_test_split(test_size=0.2)[\"test\"]"
   ]
  },
  {
   "cell_type": "markdown",
   "metadata": {
    "id": "epu8kCQZ3h70"
   },
   "source": [
    "\n",
    "Finally, we can decode the example."
   ]
  },
  {
   "cell_type": "code",
   "execution_count": null,
   "metadata": {
    "colab": {
     "base_uri": "https://localhost:8080/"
    },
    "id": "K4xWqmk_qMn0",
    "outputId": "9d1acb98-0afc-4a7a-ec7d-74614712f7a8"
   },
   "outputs": [],
   "source": [
    "print(\"Prediction:\")\n",
    "print(processor.decode(pred_ids))\n",
    "\n",
    "print(\"\\nReference:\")\n",
    "print(common_voice_test_transcription[0][\"transcription\"].lower())"
   ]
  },
  {
   "cell_type": "markdown",
   "metadata": {
    "id": "HwhyoMml3oOT"
   },
   "source": [
    "Alright! The transcription can definitely be recognized from our prediction, but it is not perfect yet. Training the model a bit longer, spending more time on the data preprocessing, and especially using a language model for decoding would certainly improve the model's overall performance.\n",
    "\n",
    "For a demonstration model on a low-resource language, the results are quite acceptable however 🤗."
   ]
  },
  {
   "cell_type": "markdown",
   "metadata": {
    "id": "aZqmSLDRE5bG"
   },
   "source": [
    "Further training phase on next parquet file"
   ]
  },
  {
   "cell_type": "code",
   "execution_count": null,
   "metadata": {
    "id": "eY9eFrONF24g"
   },
   "outputs": [],
   "source": [
    "import os\n",
    "\n",
    "import librosa\n",
    "import pandas as pd\n",
    "from datasets import Dataset\n",
    "\n",
    "global_parquet_file_index = 1\n",
    "\n",
    "\n",
    "def load_parquet_directory_by_file_index(directory_path, parquet_file_index=1):\n",
    "    all_dfs = []\n",
    "    current_parquet_file_index = 0\n",
    "    for file_name in os.listdir(directory_path):\n",
    "        if file_name.endswith(\".parquet\"):\n",
    "            file_path = os.path.join(directory_path, file_name)\n",
    "            df = pd.read_parquet(file_path)\n",
    "            all_dfs.append(df)\n",
    "            if current_parquet_file_index == parquet_file_index:\n",
    "                break\n",
    "            current_parquet_file_index = current_parquet_file_index + 1\n",
    "\n",
    "    return pd.concat(all_dfs, ignore_index=True)\n",
    "\n",
    "\n",
    "def convert_dataframe_to_dataset(dataframe):\n",
    "    return Dataset.from_pandas(dataframe)\n",
    "\n",
    "\n",
    "# def load_audio(batch):\n",
    "#     audio_data, _ = librosa.load(batch['path'], sr=16000)\n",
    "#     batch[\"audio\"] = audio_data\n",
    "#     return batch\n",
    "\n",
    "\n",
    "# dataset = dataset.map(load_audio)\n",
    "directory_path = \"/content/drive/MyDrive/uaspeechall/data\"\n",
    "df = load_parquet_directory_by_file_index(directory_path, parquet_file_index=True)\n",
    "dataset = convert_dataframe_to_dataset(df)"
   ]
  },
  {
   "cell_type": "code",
   "execution_count": null,
   "metadata": {
    "id": "xRbDsL9GGPic"
   },
   "outputs": [],
   "source": [
    "import io\n",
    "\n",
    "import numpy as np\n",
    "from pydub import AudioSegment\n",
    "\n",
    "\n",
    "def convert_audio_format(batch):\n",
    "    # Extract the audio data from the dictionary\n",
    "    audio_bytes = batch[\"audio\"][\"bytes\"]  # Replace \"data\" with the correct key\n",
    "\n",
    "    # Convert binary data to audio array\n",
    "    audio_data = AudioSegment.from_file(io.BytesIO(audio_bytes), format=\"wav\")\n",
    "    # Convert to a NumPy array and normalize\n",
    "    audio_array = np.array(audio_data.get_array_of_samples()).astype(np.float32) / 2**15\n",
    "\n",
    "    # Update the audio dictionary\n",
    "    batch[\"audio\"] = {\"array\": audio_array, \"sampling_rate\": 16000}\n",
    "    return batch\n",
    "\n",
    "\n",
    "# Apply the conversion function to the dataset\n",
    "dataset = dataset.map(convert_audio_format)\n",
    "\n",
    "from datasets import Audio, load_dataset, load_metric\n",
    "\n",
    "dataset = dataset.train_test_split(test_size=0.2)\n",
    "\n",
    "common_voice_train = dataset[\"train\"]\n",
    "common_voice_test = dataset[\"test\"]\n",
    "\n",
    "common_voice_train = common_voice_train.map(remove_special_characters)\n",
    "common_voice_test = common_voice_test.map(remove_special_characters)\n",
    "\n",
    "vocab_train = common_voice_train.map(\n",
    "    extract_all_chars,\n",
    "    batched=True,\n",
    "    batch_size=-1,\n",
    "    keep_in_memory=True,\n",
    "    remove_columns=common_voice_train.column_names,\n",
    ")\n",
    "vocab_test = common_voice_test.map(\n",
    "    extract_all_chars,\n",
    "    batched=True,\n",
    "    batch_size=-1,\n",
    "    keep_in_memory=True,\n",
    "    remove_columns=common_voice_test.column_names,\n",
    ")\n",
    "\n",
    "vocab_list = list(set(vocab_train[\"vocab\"][0]) | set(vocab_test[\"vocab\"][0]))\n",
    "\n",
    "vocab_dict = {v: k for k, v in enumerate(sorted(vocab_list))}\n",
    "\n",
    "vocab_dict[\"|\"] = vocab_dict[\" \"]\n",
    "del vocab_dict[\" \"]\n",
    "\n",
    "vocab_dict[\"[UNK]\"] = len(vocab_dict)\n",
    "vocab_dict[\"[PAD]\"] = len(vocab_dict)\n",
    "len(vocab_dict)\n",
    "\n",
    "import json\n",
    "\n",
    "with open(\"vocab.json\", \"w\") as vocab_file:\n",
    "    json.dump(vocab_dict, vocab_file)\n",
    "\n",
    "from transformers import Wav2Vec2CTCTokenizer\n",
    "\n",
    "tokenizer = Wav2Vec2CTCTokenizer.from_pretrained(\n",
    "    \"./\", unk_token=\"[UNK]\", pad_token=\"[PAD]\", word_delimiter_token=\"|\"\n",
    ")\n",
    "\n",
    "tokenizer.push_to_hub(repo_name)\n",
    "\n",
    "from transformers import Wav2Vec2FeatureExtractor\n",
    "\n",
    "feature_extractor = Wav2Vec2FeatureExtractor(\n",
    "    feature_size=1,\n",
    "    sampling_rate=16000,\n",
    "    padding_value=0.0,\n",
    "    do_normalize=True,\n",
    "    return_attention_mask=True,\n",
    ")\n",
    "\n",
    "from transformers import Wav2Vec2Processor\n",
    "\n",
    "processor = Wav2Vec2Processor(feature_extractor=feature_extractor, tokenizer=tokenizer)\n",
    "common_voice_train = common_voice_train.map(\n",
    "    prepare_dataset, remove_columns=common_voice_train.column_names\n",
    ")\n",
    "common_voice_test = common_voice_test.map(\n",
    "    prepare_dataset, remove_columns=common_voice_test.column_names\n",
    ")\n",
    "data_collator = DataCollatorCTCWithPadding(processor=processor, padding=True)\n",
    "wer_metric = load_metric(\"wer\")\n",
    "\n",
    "model = Wav2Vec2ForCTC.from_pretrained(\n",
    "    \"jmaczan/wav2vec2-large-xls-r-300m-dysarthria\",\n",
    "    attention_dropout=0.0,\n",
    "    hidden_dropout=0.0,\n",
    "    feat_proj_dropout=0.0,\n",
    "    mask_time_prob=0.05,\n",
    "    layerdrop=0.0,\n",
    "    ctc_loss_reduction=\"mean\",\n",
    "    pad_token_id=processor.tokenizer.pad_token_id,\n",
    "    vocab_size=len(processor.tokenizer),\n",
    ")"
   ]
  },
  {
   "cell_type": "code",
   "execution_count": null,
   "metadata": {
    "id": "AXxqms2GIFlm"
   },
   "outputs": [],
   "source": [
    "from transformers import TrainingArguments\n",
    "\n",
    "training_args = TrainingArguments(\n",
    "    output_dir=repo_name,\n",
    "    group_by_length=True,\n",
    "    per_device_train_batch_size=8,\n",
    "    gradient_accumulation_steps=2,\n",
    "    evaluation_strategy=\"steps\",\n",
    "    num_train_epochs=30,\n",
    "    gradient_checkpointing=True,\n",
    "    fp16=True,\n",
    "    save_steps=400,\n",
    "    eval_steps=400,\n",
    "    logging_steps=400,\n",
    "    learning_rate=3e-4,\n",
    "    warmup_steps=500,\n",
    "    save_total_limit=2,\n",
    "    push_to_hub=True,\n",
    ")"
   ]
  },
  {
   "cell_type": "code",
   "execution_count": null,
   "metadata": {
    "id": "X4QUt8y-E401"
   },
   "outputs": [],
   "source": [
    "from transformers import Trainer\n",
    "\n",
    "trainer = Trainer(\n",
    "    model=model,\n",
    "    data_collator=data_collator,\n",
    "    args=training_args,\n",
    "    compute_metrics=compute_metrics,\n",
    "    train_dataset=common_voice_train,\n",
    "    eval_dataset=common_voice_test,\n",
    "    tokenizer=processor.feature_extractor,\n",
    ")"
   ]
  },
  {
   "cell_type": "code",
   "execution_count": null,
   "metadata": {
    "id": "TRI_FHpLE4uc"
   },
   "outputs": [],
   "source": [
    "trainer.train()\n",
    "trainer.push_to_hub()"
   ]
  }
 ],
 "metadata": {
  "colab": {
   "history_visible": true,
   "provenance": []
  },
  "kernelspec": {
   "display_name": "Python 3 (ipykernel)",
   "language": "python",
   "name": "python3"
  },
  "language_info": {
   "codemirror_mode": {
    "name": "ipython",
    "version": 3
   },
   "file_extension": ".py",
   "mimetype": "text/x-python",
   "name": "python",
   "nbconvert_exporter": "python",
   "pygments_lexer": "ipython3",
   "version": "3.8.10"
  },
  "vscode": {
   "interpreter": {
    "hash": "aee8b7b246df8f9039afb4144a1f6fd8d2ca17a180786b69acc140d282b71a49"
   }
  }
 },
 "nbformat": 4,
 "nbformat_minor": 4
}
